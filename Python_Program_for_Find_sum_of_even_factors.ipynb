{
  "nbformat": 4,
  "nbformat_minor": 0,
  "metadata": {
    "colab": {
      "name": "Python Program for Find sum of even factors of a number.ipynb",
      "provenance": [],
      "authorship_tag": "ABX9TyNkgiZ3n2bjkEhjjXP2uk7y",
      "include_colab_link": true
    },
    "kernelspec": {
      "name": "python3",
      "display_name": "Python 3"
    }
  },
  "cells": [
    {
      "cell_type": "markdown",
      "metadata": {
        "id": "view-in-github",
        "colab_type": "text"
      },
      "source": [
        "<a href=\"https://colab.research.google.com/github/MdShahadatHossainbd/Python/blob/main/Python_Program_for_Find_sum_of_even_factors.ipynb\" target=\"_parent\"><img src=\"https://colab.research.google.com/assets/colab-badge.svg\" alt=\"Open In Colab\"/></a>"
      ]
    },
    {
      "cell_type": "code",
      "metadata": {
        "colab": {
          "base_uri": "https://localhost:8080/"
        },
        "id": "5_ZBEZjzB-Xx",
        "outputId": "e3569460-0150-4474-def3-83491dc014b8"
      },
      "source": [
        "# Formula based Python3 \n",
        "# program to find sum  \n",
        "# of alldivisors of n. \n",
        "import math \n",
        "  \n",
        "# Returns sum of all  \n",
        "# factors of n. \n",
        "def sumofFactors(n) : \n",
        "      \n",
        "    # If n is odd, then \n",
        "    # there are no even \n",
        "    # factors. \n",
        "    if (n % 2 != 0) : \n",
        "        return 0 \n",
        "   \n",
        "    # Traversing through \n",
        "    # all prime factors. \n",
        "    res = 1\n",
        "    for i in range(2, (int)(math.sqrt(n)) + 1) : \n",
        "          \n",
        "        # While i divides n \n",
        "        # print i and divide n \n",
        "        count = 0\n",
        "        curr_sum = 1\n",
        "        curr_term = 1\n",
        "        while (n % i == 0) : \n",
        "            count= count + 1\n",
        "   \n",
        "            n = n // i \n",
        "   \n",
        "            # here we remove the \n",
        "            # 2^0 that is 1. All \n",
        "            # other factors \n",
        "            if (i == 2 and count == 1) : \n",
        "                curr_sum = 0\n",
        "   \n",
        "            curr_term = curr_term * i \n",
        "            curr_sum = curr_sum + curr_term \n",
        "          \n",
        "        res = res * curr_sum \n",
        "          \n",
        "   \n",
        "    # This condition is to \n",
        "    # handle the case when \n",
        "    # n is a prime number. \n",
        "    if (n >= 2) : \n",
        "        res = res * (1 + n) \n",
        "   \n",
        "    return res \n",
        "  \n",
        "  \n",
        "# Driver code \n",
        "n = 18\n",
        "print(sumofFactors(n))"
      ],
      "execution_count": 1,
      "outputs": [
        {
          "output_type": "stream",
          "text": [
            "26\n"
          ],
          "name": "stdout"
        }
      ]
    }
  ]
}