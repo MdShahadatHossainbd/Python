{
  "nbformat": 4,
  "nbformat_minor": 0,
  "metadata": {
    "colab": {
      "name": "Python Program for Program to Print Matrix in Z form.ipynb",
      "provenance": [],
      "authorship_tag": "ABX9TyNa+Nh09vF2fgkPiLZxZJ1C",
      "include_colab_link": true
    },
    "kernelspec": {
      "name": "python3",
      "display_name": "Python 3"
    }
  },
  "cells": [
    {
      "cell_type": "markdown",
      "metadata": {
        "id": "view-in-github",
        "colab_type": "text"
      },
      "source": [
        "<a href=\"https://colab.research.google.com/github/MdShahadatHossainbd/Python/blob/main/Python_Program_for_Program_to_Print_Matrix_in_Z_form.ipynb\" target=\"_parent\"><img src=\"https://colab.research.google.com/assets/colab-badge.svg\" alt=\"Open In Colab\"/></a>"
      ]
    },
    {
      "cell_type": "code",
      "metadata": {
        "colab": {
          "base_uri": "https://localhost:8080/"
        },
        "id": "NRkYovuW-Rwz",
        "outputId": "634c4e88-2a07-4325-eb65-0083143b0565"
      },
      "source": [
        "# Python program to print a square matrix in Z form \n",
        "\n",
        "arr = [[4, 5, 6, 8], \n",
        "\t\t[1, 2, 3, 1], \n",
        "\t\t[7, 8, 9, 4], \n",
        "\t\t[1, 8, 7, 5]] \n",
        "\n",
        "n = len(arr[0]) \n",
        "\t\t\t\t\n",
        "i=0\n",
        "for j in range(0, n-1): \n",
        "\tprint(arr[i][j], end =\" \") \n",
        "\t\t\n",
        "k = 1\n",
        "for i in range(0, n): \n",
        "\tfor j in range(n, 0, -1): \n",
        "\t\tif(j==n-k): \n",
        "\t\t\tprint(arr[i][j], end = \" \") \n",
        "\t\t\tbreak; \n",
        "\tk+=1\n",
        "\n",
        "# Print last row \n",
        "i=n-1; \n",
        "for j in range(0, n): \n",
        "\tprint(arr[i][j], end = \" \") "
      ],
      "execution_count": 1,
      "outputs": [
        {
          "output_type": "stream",
          "text": [
            "4 5 6 8 3 8 1 8 7 5 "
          ],
          "name": "stdout"
        }
      ]
    }
  ]
}