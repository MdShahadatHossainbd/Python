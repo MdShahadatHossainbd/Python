{
  "nbformat": 4,
  "nbformat_minor": 0,
  "metadata": {
    "colab": {
      "name": "Python map() function.ipynb",
      "provenance": [],
      "authorship_tag": "ABX9TyOKBerwyhoc8rzvowTMQvkc",
      "include_colab_link": true
    },
    "kernelspec": {
      "name": "python3",
      "display_name": "Python 3"
    }
  },
  "cells": [
    {
      "cell_type": "markdown",
      "metadata": {
        "id": "view-in-github",
        "colab_type": "text"
      },
      "source": [
        "<a href=\"https://colab.research.google.com/github/MdShahadatHossainbd/Python/blob/main/Python_map()_function.ipynb\" target=\"_parent\"><img src=\"https://colab.research.google.com/assets/colab-badge.svg\" alt=\"Open In Colab\"/></a>"
      ]
    },
    {
      "cell_type": "code",
      "metadata": {
        "colab": {
          "base_uri": "https://localhost:8080/"
        },
        "id": "zOp5arkwc0zk",
        "outputId": "34526374-8deb-44ba-c855-9954b39406be"
      },
      "source": [
        "# Python program to demonstrate working of map. \r\n",
        "# Return double of n \r\n",
        "def addition(n): \r\n",
        "\treturn n + n \r\n",
        "\r\n",
        "# We double all numbers using map() \r\n",
        "numbers = (1, 2, 3, 4) \r\n",
        "result = map(addition, numbers) \r\n",
        "print(list(result)) "
      ],
      "execution_count": null,
      "outputs": [
        {
          "output_type": "stream",
          "text": [
            "[2, 4, 6, 8]\n"
          ],
          "name": "stdout"
        }
      ]
    },
    {
      "cell_type": "code",
      "metadata": {
        "colab": {
          "base_uri": "https://localhost:8080/"
        },
        "id": "p7SGNYOuk28S",
        "outputId": "7b0de3f6-ee4e-4bc6-f98f-07599ba22512"
      },
      "source": [
        "# Double all numbers using map and lambda \r\n",
        "\r\n",
        "numbers = (1, 2, 3, 4) \r\n",
        "result = map(lambda x: x + x, numbers) \r\n",
        "print(list(result)) "
      ],
      "execution_count": null,
      "outputs": [
        {
          "output_type": "stream",
          "text": [
            "[2, 4, 6, 8]\n"
          ],
          "name": "stdout"
        }
      ]
    },
    {
      "cell_type": "code",
      "metadata": {
        "colab": {
          "base_uri": "https://localhost:8080/"
        },
        "id": "mP-zCGCMlKi_",
        "outputId": "7317950b-4d85-4c20-f40d-9ae05d51eede"
      },
      "source": [
        "# Add two lists using map and lambda \r\n",
        "\r\n",
        "numbers1 = [1, 2, 3] \r\n",
        "numbers2 = [4, 5, 6] \r\n",
        "\r\n",
        "result = map(lambda x, y: x + y, numbers1, numbers2) \r\n",
        "print(list(result)) "
      ],
      "execution_count": null,
      "outputs": [
        {
          "output_type": "stream",
          "text": [
            "[5, 7, 9]\n"
          ],
          "name": "stdout"
        }
      ]
    },
    {
      "cell_type": "code",
      "metadata": {
        "id": "S5MLnnnwlOs2",
        "colab": {
          "base_uri": "https://localhost:8080/"
        },
        "outputId": "cdb8314e-0f3f-406d-fd86-2a06ea78dc2b"
      },
      "source": [
        "# List of strings \r\n",
        "l = ['sat', 'bat', 'cat', 'mat'] \r\n",
        "\r\n",
        "# map() can listify the list of strings individually \r\n",
        "test = list(map(list, l)) \r\n",
        "print(test) "
      ],
      "execution_count": null,
      "outputs": [
        {
          "output_type": "stream",
          "text": [
            "[['s', 'a', 't'], ['b', 'a', 't'], ['c', 'a', 't'], ['m', 'a', 't']]\n"
          ],
          "name": "stdout"
        }
      ]
    },
    {
      "cell_type": "code",
      "metadata": {
        "id": "62zgseYQlSLe"
      },
      "source": [
        ""
      ],
      "execution_count": null,
      "outputs": []
    }
  ]
}