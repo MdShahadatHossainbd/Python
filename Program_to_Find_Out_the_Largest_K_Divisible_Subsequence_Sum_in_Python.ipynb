{
  "nbformat": 4,
  "nbformat_minor": 0,
  "metadata": {
    "colab": {
      "name": "Program to Find Out the Largest K-Divisible Subsequence Sum in Python.ipynb",
      "provenance": [],
      "authorship_tag": "ABX9TyPfWbgJokbOanpj1CNEuMtl",
      "include_colab_link": true
    },
    "kernelspec": {
      "name": "python3",
      "display_name": "Python 3"
    }
  },
  "cells": [
    {
      "cell_type": "markdown",
      "metadata": {
        "id": "view-in-github",
        "colab_type": "text"
      },
      "source": [
        "<a href=\"https://colab.research.google.com/github/MdShahadatHossainbd/python/blob/main/Program_to_Find_Out_the_Largest_K_Divisible_Subsequence_Sum_in_Python.ipynb\" target=\"_parent\"><img src=\"https://colab.research.google.com/assets/colab-badge.svg\" alt=\"Open In Colab\"/></a>"
      ]
    },
    {
      "cell_type": "code",
      "metadata": {
        "colab": {
          "base_uri": "https://localhost:8080/"
        },
        "id": "cXTx4ceDeuJ8",
        "outputId": "67c63780-7ffd-4fec-e8fe-8f0a377301ca"
      },
      "source": [
        "from itertools import chain, combinations\n",
        "class Solution:\n",
        "   def solve(self, nums, k):\n",
        "      numsSum = sum(nums)\n",
        "      remainder = numsSum % k\n",
        "      if remainder == 0:\n",
        "         return numsSum\n",
        "      nums.sort()\n",
        "      for tpl in chain.from_iterable(combinations(nums, r) for r in range(1, len(nums) + 1)):\n",
        "         subSeqSum = sum(tpl)\n",
        "         if subSeqSum % k == remainder:\n",
        "            return numsSum - subSeqSum\n",
        "      return 0\n",
        "ob1 = Solution()\n",
        "print(ob1.solve([4, 6, 8, 2], 2))"
      ],
      "execution_count": 3,
      "outputs": [
        {
          "output_type": "stream",
          "text": [
            "20\n"
          ],
          "name": "stdout"
        }
      ]
    }
  ]
}