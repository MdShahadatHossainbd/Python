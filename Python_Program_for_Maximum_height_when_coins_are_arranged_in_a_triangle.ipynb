{
  "nbformat": 4,
  "nbformat_minor": 0,
  "metadata": {
    "colab": {
      "name": "Python Program for Maximum height when coins are arranged in a triangle.ipynb",
      "provenance": [],
      "authorship_tag": "ABX9TyNE+VEQ94Iwsfmf0KSVIKxU",
      "include_colab_link": true
    },
    "kernelspec": {
      "name": "python3",
      "display_name": "Python 3"
    }
  },
  "cells": [
    {
      "cell_type": "markdown",
      "metadata": {
        "id": "view-in-github",
        "colab_type": "text"
      },
      "source": [
        "<a href=\"https://colab.research.google.com/github/MdShahadatHossainbd/Python/blob/main/Python_Program_for_Maximum_height_when_coins_are_arranged_in_a_triangle.ipynb\" target=\"_parent\"><img src=\"https://colab.research.google.com/assets/colab-badge.svg\" alt=\"Open In Colab\"/></a>"
      ]
    },
    {
      "cell_type": "code",
      "metadata": {
        "colab": {
          "base_uri": "https://localhost:8080/"
        },
        "id": "cEq202sC3WL8",
        "outputId": "e97db7f9-5279-472e-ebe9-25977686dcb2"
      },
      "source": [
        "# Python3 program to find maximum height of arranged coin triangle Returns the square root of n. Note that the function \n",
        "def squareRoot(n): \n",
        "\n",
        "\t# We are using n itself as initial approximation This can definitely be improved \n",
        "\tx = n \n",
        "\ty = 1\n",
        "\n",
        "\te = 0.000001 # e decides the accuracy level \n",
        "\twhile (x - y > e): \n",
        "\t\tx = (x + y) / 2\n",
        "\t\ty = n/x \n",
        "\t\t\n",
        "\treturn x \n",
        "\n",
        "\n",
        "# Method to find maximum height of arrangement of coins \n",
        "def findMaximumHeight(N): \n",
        "\n",
        "\t# calculating portion inside the square root \n",
        "\tn = 1 + 8*N \n",
        "\tmaxH = (-1 + squareRoot(n)) / 2\n",
        "\treturn int(maxH) \n",
        "\n",
        "\n",
        "# Driver code to test above method \n",
        "N = 12\n",
        "print(findMaximumHeight(N)) "
      ],
      "execution_count": 1,
      "outputs": [
        {
          "output_type": "stream",
          "text": [
            "4\n"
          ],
          "name": "stdout"
        }
      ]
    }
  ]
}