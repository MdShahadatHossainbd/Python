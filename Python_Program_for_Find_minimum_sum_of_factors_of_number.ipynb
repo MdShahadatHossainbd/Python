{
  "nbformat": 4,
  "nbformat_minor": 0,
  "metadata": {
    "colab": {
      "name": "Python Program for Find minimum sum of factors of number.ipynb",
      "provenance": [],
      "authorship_tag": "ABX9TyMJINkBwVyCWFY4iFTp9c+j",
      "include_colab_link": true
    },
    "kernelspec": {
      "name": "python3",
      "display_name": "Python 3"
    }
  },
  "cells": [
    {
      "cell_type": "markdown",
      "metadata": {
        "id": "view-in-github",
        "colab_type": "text"
      },
      "source": [
        "<a href=\"https://colab.research.google.com/github/MdShahadatHossainbd/Python/blob/main/Python_Program_for_Find_minimum_sum_of_factors_of_number.ipynb\" target=\"_parent\"><img src=\"https://colab.research.google.com/assets/colab-badge.svg\" alt=\"Open In Colab\"/></a>"
      ]
    },
    {
      "cell_type": "code",
      "metadata": {
        "colab": {
          "base_uri": "https://localhost:8080/"
        },
        "id": "MMABsNvWeQ-B",
        "outputId": "baab8ec9-dc3f-4506-cd0c-57cbeb5f3661"
      },
      "source": [
        "# Python program to find minimum sum of product of number \n",
        "\n",
        "# To find minimum sum of product of number \n",
        "def findMinSum(num): \n",
        "\tsum = 0\n",
        "\t\n",
        "\t# Find factors of number and add to the sum \n",
        "\ti = 2\n",
        "\twhile(i * i <= num): \n",
        "\t\twhile(num % i == 0): \n",
        "\t\t\tsum += i \n",
        "\t\t\tnum /= i \n",
        "\t\ti += 1\n",
        "\tsum += num \n",
        "\t\n",
        "\t# Return sum of numbers  having minimum product \n",
        "\treturn sum\n",
        "\n",
        "# Driver Code \n",
        "num = 12\n",
        "print(findMinSum(num))"
      ],
      "execution_count": 2,
      "outputs": [
        {
          "output_type": "stream",
          "text": [
            "7.0\n"
          ],
          "name": "stdout"
        }
      ]
    }
  ]
}