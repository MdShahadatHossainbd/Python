{
  "nbformat": 4,
  "nbformat_minor": 0,
  "metadata": {
    "colab": {
      "name": "Python Program for compound interest.ipynb",
      "provenance": [],
      "authorship_tag": "ABX9TyNaFbOrwpJmgs2td6ZttwEe",
      "include_colab_link": true
    },
    "kernelspec": {
      "name": "python3",
      "display_name": "Python 3"
    }
  },
  "cells": [
    {
      "cell_type": "markdown",
      "metadata": {
        "id": "view-in-github",
        "colab_type": "text"
      },
      "source": [
        "<a href=\"https://colab.research.google.com/github/MdShahadatHossainbd/Python/blob/main/Python_Program_for_compound_interest.ipynb\" target=\"_parent\"><img src=\"https://colab.research.google.com/assets/colab-badge.svg\" alt=\"Open In Colab\"/></a>"
      ]
    },
    {
      "cell_type": "code",
      "metadata": {
        "colab": {
          "base_uri": "https://localhost:8080/"
        },
        "id": "9-6tunqpP3i3",
        "outputId": "1c186d09-f2d4-48c1-e9c5-09f0f16c9b87"
      },
      "source": [
        "# Python3 program to find compound interest for given values. \n",
        "\n",
        "def compound_interest(principle, rate, time): \n",
        "\n",
        "\t# Calculates compound interest \n",
        "\tAmount = principle * (pow((1 + rate / 100), time)) \n",
        "\tCI = Amount - principle \n",
        "\tprint(\"Compound interest is\", CI) \n",
        "\n",
        "# Driver Code \n",
        "compound_interest(10000, 10.25, 5) "
      ],
      "execution_count": 1,
      "outputs": [
        {
          "output_type": "stream",
          "text": [
            "Compound interest is 6288.946267774416\n"
          ],
          "name": "stdout"
        }
      ]
    }
  ]
}