{
  "nbformat": 4,
  "nbformat_minor": 0,
  "metadata": {
    "colab": {
      "name": "Python | Split string into list of characters.ipynb",
      "provenance": [],
      "authorship_tag": "ABX9TyPax2bGMtKL34A0kbwu1Z7E",
      "include_colab_link": true
    },
    "kernelspec": {
      "display_name": "Python 3",
      "name": "python3"
    }
  },
  "cells": [
    {
      "cell_type": "markdown",
      "metadata": {
        "id": "view-in-github",
        "colab_type": "text"
      },
      "source": [
        "<a href=\"https://colab.research.google.com/github/MdShahadatHossainbd/Python/blob/main/Python_%7C_Split_string_into_list_of_characters.ipynb\" target=\"_parent\"><img src=\"https://colab.research.google.com/assets/colab-badge.svg\" alt=\"Open In Colab\"/></a>"
      ]
    },
    {
      "cell_type": "code",
      "metadata": {
        "colab": {
          "base_uri": "https://localhost:8080/"
        },
        "id": "hNMQqZGi4lW2",
        "outputId": "2c86ada4-6cc7-4afe-afb2-a9f8a80357f8"
      },
      "source": [
        "# Python3 program to Split string into characters \r\n",
        "def split(word): \r\n",
        "\treturn [char for char in word] \r\n",
        "\t\r\n",
        "# Driver code \r\n",
        "word = 'geeks'\r\n",
        "print(split(word)) "
      ],
      "execution_count": null,
      "outputs": [
        {
          "output_type": "stream",
          "text": [
            "['g', 'e', 'e', 'k', 's']\n"
          ],
          "name": "stdout"
        }
      ]
    },
    {
      "cell_type": "code",
      "metadata": {
        "colab": {
          "background_save": true,
          "base_uri": "https://localhost:8080/"
        },
        "id": "4qhZYZus4tpE",
        "outputId": "1672981b-3247-49bb-b801-f5c9d93cd765"
      },
      "source": [
        "# Python3 program to Split string into characters \r\n",
        "def split(word): \r\n",
        "\treturn list(word) \r\n",
        "\t\r\n",
        "# Driver code \r\n",
        "word = 'geeks'\r\n",
        "print(split(word)) "
      ],
      "execution_count": null,
      "outputs": [
        {
          "output_type": "stream",
          "text": [
            "['g', 'e', 'e', 'k', 's']\n"
          ],
          "name": "stdout"
        }
      ]
    },
    {
      "cell_type": "code",
      "metadata": {
        "id": "QkyhNZx245fs"
      },
      "source": [
        ""
      ],
      "execution_count": null,
      "outputs": []
    }
  ]
}