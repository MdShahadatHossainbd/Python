{
  "nbformat": 4,
  "nbformat_minor": 0,
  "metadata": {
    "colab": {
      "name": "Guess The Output 05 | Python Programs And Answers2.ipynb",
      "provenance": [],
      "authorship_tag": "ABX9TyNp3iIfi1nOJoEBx4OvqInU",
      "include_colab_link": true
    },
    "kernelspec": {
      "name": "python3",
      "display_name": "Python 3"
    }
  },
  "cells": [
    {
      "cell_type": "markdown",
      "metadata": {
        "id": "view-in-github",
        "colab_type": "text"
      },
      "source": [
        "<a href=\"https://colab.research.google.com/github/MdShahadatHossainbd/Python/blob/main/Guess_The_Output_05_%7C_Python_Programs_And_Answers2.ipynb\" target=\"_parent\"><img src=\"https://colab.research.google.com/assets/colab-badge.svg\" alt=\"Open In Colab\"/></a>"
      ]
    },
    {
      "cell_type": "code",
      "metadata": {
        "colab": {
          "base_uri": "https://localhost:8080/"
        },
        "id": "HwfAf0bLe5kq",
        "outputId": "b6f3b126-6987-413a-b6f4-bcc27d44569c"
      },
      "source": [
        "for i in range(1,20):\n",
        "  if i == 5:\n",
        "    break\n",
        "  else:\n",
        "    print(i)"
      ],
      "execution_count": 1,
      "outputs": [
        {
          "output_type": "stream",
          "text": [
            "1\n",
            "2\n",
            "3\n",
            "4\n"
          ],
          "name": "stdout"
        }
      ]
    },
    {
      "cell_type": "code",
      "metadata": {
        "colab": {
          "base_uri": "https://localhost:8080/"
        },
        "id": "OJQ8rIQsfUDv",
        "outputId": "b9a9f3ef-f1f1-4ba3-a5ac-a54c4adc85de"
      },
      "source": [
        "for i in range(1,20):\n",
        "  if i == 5:\n",
        "    break\n",
        "  else:\n",
        "    print(i)\n",
        "else:\n",
        "  print(\"Hello\")"
      ],
      "execution_count": 2,
      "outputs": [
        {
          "output_type": "stream",
          "text": [
            "1\n",
            "2\n",
            "3\n",
            "4\n"
          ],
          "name": "stdout"
        }
      ]
    }
  ]
}