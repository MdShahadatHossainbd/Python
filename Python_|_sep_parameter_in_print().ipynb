{
  "nbformat": 4,
  "nbformat_minor": 0,
  "metadata": {
    "colab": {
      "name": "Python | sep parameter in print().ipynb",
      "provenance": [],
      "authorship_tag": "ABX9TyPbZQ6uSsye7ZD47CshAv2E",
      "include_colab_link": true
    },
    "kernelspec": {
      "name": "python3",
      "display_name": "Python 3"
    }
  },
  "cells": [
    {
      "cell_type": "markdown",
      "metadata": {
        "id": "view-in-github",
        "colab_type": "text"
      },
      "source": [
        "<a href=\"https://colab.research.google.com/github/MdShahadatHossainbd/Python/blob/main/Python_%7C_sep_parameter_in_print().ipynb\" target=\"_parent\"><img src=\"https://colab.research.google.com/assets/colab-badge.svg\" alt=\"Open In Colab\"/></a>"
      ]
    },
    {
      "cell_type": "code",
      "metadata": {
        "colab": {
          "base_uri": "https://localhost:8080/"
        },
        "id": "aTTa5hr6asuU",
        "outputId": "04b843cf-ff29-4c3e-80af-0e298e8557ec"
      },
      "source": [
        "#code for disabling the softspace feature \r\n",
        "print('G','F','G', sep='') \r\n",
        "\r\n",
        "#for formatting a date \r\n",
        "print('09','12','2016', sep='-') \r\n",
        "\r\n",
        "#another example \r\n",
        "print('pratik','geeksforgeeks', sep='@') "
      ],
      "execution_count": 1,
      "outputs": [
        {
          "output_type": "stream",
          "text": [
            "GFG\n",
            "09-12-2016\n",
            "pratik@geeksforgeeks\n"
          ],
          "name": "stdout"
        }
      ]
    },
    {
      "cell_type": "code",
      "metadata": {
        "colab": {
          "base_uri": "https://localhost:8080/"
        },
        "id": "12SomUa9bSCE",
        "outputId": "b6802a17-fe94-4127-ad78-b5e68555f46a"
      },
      "source": [
        "print('G','F', sep='', end='') \r\n",
        "print('G') \r\n",
        "#\\n provides new line after printing the year \r\n",
        "print('09','12', sep='-', end='\\n') \r\n",
        "\r\n",
        "print('prtk','agarwal', sep='', end='@') \r\n",
        "print('geeksforgeeks') "
      ],
      "execution_count": 2,
      "outputs": [
        {
          "output_type": "stream",
          "text": [
            "GFG\n",
            "09-12\n",
            "prtkagarwal@geeksforgeeks\n"
          ],
          "name": "stdout"
        }
      ]
    }
  ]
}