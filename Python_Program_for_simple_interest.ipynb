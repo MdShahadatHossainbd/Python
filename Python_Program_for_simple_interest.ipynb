{
  "nbformat": 4,
  "nbformat_minor": 0,
  "metadata": {
    "colab": {
      "name": "Python Program for simple interest.ipynb",
      "provenance": [],
      "authorship_tag": "ABX9TyN3MEjbSyGk/70xow9Jqi/T",
      "include_colab_link": true
    },
    "kernelspec": {
      "name": "python3",
      "display_name": "Python 3"
    }
  },
  "cells": [
    {
      "cell_type": "markdown",
      "metadata": {
        "id": "view-in-github",
        "colab_type": "text"
      },
      "source": [
        "<a href=\"https://colab.research.google.com/github/MdShahadatHossainbd/Python/blob/main/Python_Program_for_simple_interest.ipynb\" target=\"_parent\"><img src=\"https://colab.research.google.com/assets/colab-badge.svg\" alt=\"Open In Colab\"/></a>"
      ]
    },
    {
      "cell_type": "code",
      "metadata": {
        "colab": {
          "base_uri": "https://localhost:8080/"
        },
        "id": "EQZBnuNdf8Hp",
        "outputId": "07551f6b-5585-4660-df4d-4ef33211692c"
      },
      "source": [
        "# Python3 program to find simple interest for given principal amount, time and rate of interest. \n",
        "\n",
        "\n",
        "def simple_interest(p,t,r): \n",
        "\tprint('The principal is', p) \n",
        "\tprint('The time period is', t) \n",
        "\tprint('The rate of interest is',r) \n",
        "\t\n",
        "\tsi = (p * t * r)/100\n",
        "\t\n",
        "\tprint('The Simple Interest is', si) \n",
        "\treturn si \n",
        "\t\n",
        "# Driver code \n",
        "simple_interest(8, 6, 8) \n"
      ],
      "execution_count": 4,
      "outputs": [
        {
          "output_type": "stream",
          "text": [
            "The principal is 8\n",
            "The time period is 6\n",
            "The rate of interest is 8\n",
            "The Simple Interest is 3.84\n"
          ],
          "name": "stdout"
        },
        {
          "output_type": "execute_result",
          "data": {
            "text/plain": [
              "3.84"
            ]
          },
          "metadata": {
            "tags": []
          },
          "execution_count": 4
        }
      ]
    }
  ]
}