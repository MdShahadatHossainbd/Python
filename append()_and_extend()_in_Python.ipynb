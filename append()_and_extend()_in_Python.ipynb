{
  "nbformat": 4,
  "nbformat_minor": 0,
  "metadata": {
    "colab": {
      "name": "append() and extend() in Python.ipynb",
      "provenance": [],
      "authorship_tag": "ABX9TyOGy1n/OS+NJfIkKAp3DJz9",
      "include_colab_link": true
    },
    "kernelspec": {
      "name": "python3",
      "display_name": "Python 3"
    }
  },
  "cells": [
    {
      "cell_type": "markdown",
      "metadata": {
        "id": "view-in-github",
        "colab_type": "text"
      },
      "source": [
        "<a href=\"https://colab.research.google.com/github/MdShahadatHossainbd/Python/blob/main/append()_and_extend()_in_Python.ipynb\" target=\"_parent\"><img src=\"https://colab.research.google.com/assets/colab-badge.svg\" alt=\"Open In Colab\"/></a>"
      ]
    },
    {
      "cell_type": "code",
      "metadata": {
        "colab": {
          "base_uri": "https://localhost:8080/"
        },
        "id": "HiiKIO_k3D1a",
        "outputId": "c06e1290-70c5-48bc-89b5-8143c7245b0c"
      },
      "source": [
        "my_list = ['geeks', 'for'] \r\n",
        "my_list.append('geeks') \r\n",
        "print(my_list)"
      ],
      "execution_count": 2,
      "outputs": [
        {
          "output_type": "stream",
          "text": [
            "['geeks', 'for', 'geeks']\n"
          ],
          "name": "stdout"
        }
      ]
    },
    {
      "cell_type": "code",
      "metadata": {
        "colab": {
          "base_uri": "https://localhost:8080/"
        },
        "id": "RDZxKuha3gnl",
        "outputId": "46e6b947-d396-4021-c7b4-ddd13f3b2edc"
      },
      "source": [
        "my_list = ['geeks', 'for', 'geeks'] \r\n",
        "another_list = [6, 0, 4, 1] \r\n",
        "my_list.append(another_list) \r\n",
        "print(my_list)"
      ],
      "execution_count": 3,
      "outputs": [
        {
          "output_type": "stream",
          "text": [
            "['geeks', 'for', 'geeks', [6, 0, 4, 1]]\n"
          ],
          "name": "stdout"
        }
      ]
    },
    {
      "cell_type": "code",
      "metadata": {
        "colab": {
          "base_uri": "https://localhost:8080/"
        },
        "id": "J-5nPnrG3nLF",
        "outputId": "05345163-0bde-42ac-de42-e361004df8cb"
      },
      "source": [
        "my_list = ['geeks', 'for'] \r\n",
        "another_list = [6, 0, 4, 1] \r\n",
        "my_list.extend(another_list) \r\n",
        "print(my_list)"
      ],
      "execution_count": 4,
      "outputs": [
        {
          "output_type": "stream",
          "text": [
            "['geeks', 'for', 6, 0, 4, 1]\n"
          ],
          "name": "stdout"
        }
      ]
    },
    {
      "cell_type": "code",
      "metadata": {
        "colab": {
          "base_uri": "https://localhost:8080/"
        },
        "id": "ml200TxN3vkj",
        "outputId": "855d378c-ec3e-4eed-bd12-87dabf716ca7"
      },
      "source": [
        "my_list = ['geeks', 'for', 6, 0, 4, 1] \r\n",
        "my_list.extend('geeks') \r\n",
        "print(my_list)"
      ],
      "execution_count": 5,
      "outputs": [
        {
          "output_type": "stream",
          "text": [
            "['geeks', 'for', 6, 0, 4, 1, 'g', 'e', 'e', 'k', 's']\n"
          ],
          "name": "stdout"
        }
      ]
    }
  ]
}