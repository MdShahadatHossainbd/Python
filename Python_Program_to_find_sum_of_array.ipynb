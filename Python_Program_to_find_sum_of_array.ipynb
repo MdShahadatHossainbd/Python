{
  "nbformat": 4,
  "nbformat_minor": 0,
  "metadata": {
    "colab": {
      "name": "Python Program to find sum of array.ipynb",
      "provenance": [],
      "authorship_tag": "ABX9TyNr56cp/Gb0WMCJbor842i9",
      "include_colab_link": true
    },
    "kernelspec": {
      "name": "python3",
      "display_name": "Python 3"
    }
  },
  "cells": [
    {
      "cell_type": "markdown",
      "metadata": {
        "id": "view-in-github",
        "colab_type": "text"
      },
      "source": [
        "<a href=\"https://colab.research.google.com/github/MdShahadatHossainbd/Python/blob/main/Python_Program_to_find_sum_of_array.ipynb\" target=\"_parent\"><img src=\"https://colab.research.google.com/assets/colab-badge.svg\" alt=\"Open In Colab\"/></a>"
      ]
    },
    {
      "cell_type": "code",
      "metadata": {
        "colab": {
          "base_uri": "https://localhost:8080/"
        },
        "id": "O__-RqcalzfY",
        "outputId": "4ead3704-6d81-4321-fac0-272616d40bae"
      },
      "source": [
        "# Python 3 code to find sum \n",
        "# of elements in given array \n",
        "def _sum(arr): \n",
        "\t\n",
        "\t# initialize a variable \n",
        "\t# to store the sum \n",
        "\t# while iterating through \n",
        "\t# the array later \n",
        "\tsum=0\n",
        "\t\n",
        "\t# iterate through the array \n",
        "\t# and add each element to the sum variable \n",
        "\t# one at a time \n",
        "\tfor i in arr: \n",
        "\t\tsum = sum + i \n",
        "\t\t\n",
        "\treturn(sum) \n",
        "\n",
        "# driver function \n",
        "arr=[] \n",
        "# input values to list \n",
        "arr = [12, 3, 4, 15] \n",
        "\n",
        "# calculating length of array \n",
        "n = len(arr) \n",
        "\n",
        "ans = _sum(arr) \n",
        "\n",
        "# display sum \n",
        "print ('Sum of the array is ', ans) "
      ],
      "execution_count": 1,
      "outputs": [
        {
          "output_type": "stream",
          "text": [
            "Sum of the array is  34\n"
          ],
          "name": "stdout"
        }
      ]
    },
    {
      "cell_type": "code",
      "metadata": {
        "colab": {
          "base_uri": "https://localhost:8080/"
        },
        "id": "RR4s4-RvmCKh",
        "outputId": "3fdfc208-0c0e-48e1-8890-71f6e1f83c8c"
      },
      "source": [
        "# Python 3 code to find sum \n",
        "# of elements in given array \n",
        "# driver function \n",
        "arr = [] \n",
        "\n",
        "# input values to list \n",
        "arr = [12, 3, 4, 15] \n",
        "\n",
        "# sum() is an inbuilt function in python that adds \n",
        "# all the elements in list,set and tuples and returns \n",
        "# the value \n",
        "ans = sum(arr) \n",
        "\n",
        "# display sum \n",
        "print ('Sum of the array is ',ans) "
      ],
      "execution_count": 2,
      "outputs": [
        {
          "output_type": "stream",
          "text": [
            "Sum of the array is  34\n"
          ],
          "name": "stdout"
        }
      ]
    },
    {
      "cell_type": "code",
      "metadata": {
        "id": "xGhE4N3smGDC"
      },
      "source": [
        ""
      ],
      "execution_count": null,
      "outputs": []
    }
  ]
}