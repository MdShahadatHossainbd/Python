{
  "nbformat": 4,
  "nbformat_minor": 0,
  "metadata": {
    "colab": {
      "name": "Guess The Output 1.ipynb",
      "provenance": [],
      "authorship_tag": "ABX9TyPalxvQB1pdoDlzIG53cZUm",
      "include_colab_link": true
    },
    "kernelspec": {
      "name": "python3",
      "display_name": "Python 3"
    }
  },
  "cells": [
    {
      "cell_type": "markdown",
      "metadata": {
        "id": "view-in-github",
        "colab_type": "text"
      },
      "source": [
        "<a href=\"https://colab.research.google.com/github/MdShahadatHossainbd/python/blob/main/Guess_The_Output_1.ipynb\" target=\"_parent\"><img src=\"https://colab.research.google.com/assets/colab-badge.svg\" alt=\"Open In Colab\"/></a>"
      ]
    },
    {
      "cell_type": "code",
      "metadata": {
        "colab": {
          "base_uri": "https://localhost:8080/"
        },
        "id": "6fN5L8cDS3fu",
        "outputId": "68877981-1d49-4381-df5f-827fdbed5339"
      },
      "source": [
        "x = []\n",
        "if x :\n",
        "  print(x,\"True\")\n",
        "else:\n",
        "  print(x,\"False\")"
      ],
      "execution_count": 1,
      "outputs": [
        {
          "output_type": "stream",
          "text": [
            "[] False\n"
          ],
          "name": "stdout"
        }
      ]
    },
    {
      "cell_type": "code",
      "metadata": {
        "colab": {
          "base_uri": "https://localhost:8080/"
        },
        "id": "wybd11HfWbO8",
        "outputId": "5cb387ba-9812-416b-c483-7a286269f2d5"
      },
      "source": [
        "p = (1,10)\n",
        "q = 0\n",
        "r = []\n",
        "if p or q or r:\n",
        "  print(x,\"True\")\n",
        "else:\n",
        "  print(x,\"False\")"
      ],
      "execution_count": 2,
      "outputs": [
        {
          "output_type": "stream",
          "text": [
            "[] True\n"
          ],
          "name": "stdout"
        }
      ]
    },
    {
      "cell_type": "code",
      "metadata": {
        "colab": {
          "base_uri": "https://localhost:8080/"
        },
        "id": "ujNA3YCSW924",
        "outputId": "5498f530-a7dd-48a1-8908-55199450b56c"
      },
      "source": [
        "p = (1,10)\n",
        "q = 0\n",
        "r = []\n",
        "if p or q and r:\n",
        "  print(x,\"True\")\n",
        "else:\n",
        "  print(x,\"False\")"
      ],
      "execution_count": 3,
      "outputs": [
        {
          "output_type": "stream",
          "text": [
            "[] True\n"
          ],
          "name": "stdout"
        }
      ]
    },
    {
      "cell_type": "code",
      "metadata": {
        "colab": {
          "base_uri": "https://localhost:8080/"
        },
        "id": "2FLeL-JzXLnq",
        "outputId": "57688ae3-2cab-42e0-cf8a-4f639c3a0e2d"
      },
      "source": [
        "p = (1,10)\n",
        "q = 0\n",
        "r = []\n",
        "if p and q or r:\n",
        "  print(x,\"True\")\n",
        "else:\n",
        "  print(x,\"False\")"
      ],
      "execution_count": 4,
      "outputs": [
        {
          "output_type": "stream",
          "text": [
            "[] False\n"
          ],
          "name": "stdout"
        }
      ]
    },
    {
      "cell_type": "code",
      "metadata": {
        "colab": {
          "base_uri": "https://localhost:8080/"
        },
        "id": "ECPpwvmfYNwS",
        "outputId": "e45ba445-3b1a-44b6-c58a-09a19da987eb"
      },
      "source": [
        "list1 = [\"ABC\",\"XYZ\",\"pqR\"]\n",
        "for i in list1:\n",
        "  i.lower()\n",
        "print(list1)"
      ],
      "execution_count": 5,
      "outputs": [
        {
          "output_type": "stream",
          "text": [
            "['ABC', 'XYZ', 'pqR']\n"
          ],
          "name": "stdout"
        }
      ]
    },
    {
      "cell_type": "code",
      "metadata": {
        "colab": {
          "base_uri": "https://localhost:8080/"
        },
        "id": "zBtncANTZLAF",
        "outputId": "5240f33f-d8fd-4ce7-f66a-822c97611c00"
      },
      "source": [
        "list1 = [\"ABC\",\"XYZ\",\"pqR\"]\n",
        "for i in list1:\n",
        "  i.upper()\n",
        "print(list1)"
      ],
      "execution_count": 6,
      "outputs": [
        {
          "output_type": "stream",
          "text": [
            "['ABC', 'XYZ', 'pqR']\n"
          ],
          "name": "stdout"
        }
      ]
    },
    {
      "cell_type": "code",
      "metadata": {
        "colab": {
          "base_uri": "https://localhost:8080/"
        },
        "id": "HBAlf0hpZ3kB",
        "outputId": "c5ebca89-bf74-4284-994d-8d842159300f"
      },
      "source": [
        "list1 = [\"ABC\",\"XYZ\",\"pqR\"]\n",
        "list2 = []\n",
        "for i in list1:\n",
        "  x = i.lower()\n",
        "  list2.append(x)\n",
        "print(list1)\n",
        "print(list2)"
      ],
      "execution_count": 8,
      "outputs": [
        {
          "output_type": "stream",
          "text": [
            "['ABC', 'XYZ', 'pqR']\n",
            "['abc', 'xyz', 'pqr']\n"
          ],
          "name": "stdout"
        }
      ]
    },
    {
      "cell_type": "code",
      "metadata": {
        "colab": {
          "base_uri": "https://localhost:8080/",
          "height": 754
        },
        "id": "wY0LlMSKas0V",
        "outputId": "c492806e-c341-4a35-b324-66817f169ad8"
      },
      "source": [
        "#No output this program infinate loop\n",
        "list1 = [\"abc\",\"123\"]\n",
        "for i in list1:\n",
        "  list1.append(i)\n",
        "print(list1)"
      ],
      "execution_count": 9,
      "outputs": [
        {
          "output_type": "stream",
          "text": [
            "ERROR:root:Internal Python error in the inspect module.\n",
            "Below is the traceback from this internal error.\n",
            "\n"
          ],
          "name": "stderr"
        },
        {
          "output_type": "stream",
          "text": [
            "Traceback (most recent call last):\n",
            "  File \"/usr/local/lib/python3.6/dist-packages/IPython/core/interactiveshell.py\", line 2882, in run_code\n",
            "    exec(code_obj, self.user_global_ns, self.user_ns)\n",
            "  File \"<ipython-input-9-c584716880b5>\", line 3, in <module>\n",
            "    list1.append(i)\n",
            "KeyboardInterrupt\n",
            "\n",
            "During handling of the above exception, another exception occurred:\n",
            "\n",
            "Traceback (most recent call last):\n",
            "  File \"/usr/local/lib/python3.6/dist-packages/IPython/core/interactiveshell.py\", line 1823, in showtraceback\n",
            "    stb = value._render_traceback_()\n",
            "AttributeError: 'KeyboardInterrupt' object has no attribute '_render_traceback_'\n",
            "\n",
            "During handling of the above exception, another exception occurred:\n",
            "\n",
            "Traceback (most recent call last):\n",
            "  File \"/usr/local/lib/python3.6/dist-packages/IPython/core/ultratb.py\", line 1132, in get_records\n",
            "    return _fixed_getinnerframes(etb, number_of_lines_of_context, tb_offset)\n",
            "  File \"/usr/local/lib/python3.6/dist-packages/IPython/core/ultratb.py\", line 313, in wrapped\n",
            "    return f(*args, **kwargs)\n",
            "  File \"/usr/local/lib/python3.6/dist-packages/IPython/core/ultratb.py\", line 358, in _fixed_getinnerframes\n",
            "    records = fix_frame_records_filenames(inspect.getinnerframes(etb, context))\n",
            "  File \"/usr/lib/python3.6/inspect.py\", line 1490, in getinnerframes\n",
            "    frameinfo = (tb.tb_frame,) + getframeinfo(tb, context)\n",
            "  File \"/usr/lib/python3.6/inspect.py\", line 1448, in getframeinfo\n",
            "    filename = getsourcefile(frame) or getfile(frame)\n",
            "  File \"/usr/lib/python3.6/inspect.py\", line 696, in getsourcefile\n",
            "    if getattr(getmodule(object, filename), '__loader__', None) is not None:\n",
            "  File \"/usr/lib/python3.6/inspect.py\", line 732, in getmodule\n",
            "    for modname, module in list(sys.modules.items()):\n",
            "KeyboardInterrupt\n"
          ],
          "name": "stdout"
        },
        {
          "output_type": "error",
          "ename": "KeyboardInterrupt",
          "evalue": "ignored",
          "traceback": [
            "\u001b[0;31m---------------------------------------------------------------------------\u001b[0m"
          ]
        }
      ]
    }
  ]
}