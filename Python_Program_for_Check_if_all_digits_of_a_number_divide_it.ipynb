{
  "nbformat": 4,
  "nbformat_minor": 0,
  "metadata": {
    "colab": {
      "name": "Python Program for Check if all digits of a number divide it.ipynb",
      "provenance": [],
      "authorship_tag": "ABX9TyP45NqKnXwQFSuRS+5OaMad",
      "include_colab_link": true
    },
    "kernelspec": {
      "name": "python3",
      "display_name": "Python 3"
    }
  },
  "cells": [
    {
      "cell_type": "markdown",
      "metadata": {
        "id": "view-in-github",
        "colab_type": "text"
      },
      "source": [
        "<a href=\"https://colab.research.google.com/github/MdShahadatHossainbd/Python/blob/main/Python_Program_for_Check_if_all_digits_of_a_number_divide_it.ipynb\" target=\"_parent\"><img src=\"https://colab.research.google.com/assets/colab-badge.svg\" alt=\"Open In Colab\"/></a>"
      ]
    },
    {
      "cell_type": "code",
      "metadata": {
        "colab": {
          "base_uri": "https://localhost:8080/"
        },
        "id": "6SikQE027DgX",
        "outputId": "67c23beb-7e6d-4a9c-ab0a-16121b9db139"
      },
      "source": [
        "def checkDivisibility(n, digit) :\n",
        "     \n",
        "    # If the digit divides the\n",
        "    # number then return true\n",
        "    # else return false.\n",
        "    return (digit != 0 and n % digit == 0)\n",
        "     \n",
        "# Function to check if\n",
        "# all digits of n divide\n",
        "# it or not\n",
        "def allDigitsDivide( n) :\n",
        "     \n",
        "    temp = n\n",
        "    while (temp > 0) :\n",
        "         \n",
        "        # Taking the digit of\n",
        "        # the number into digit\n",
        "        # var.\n",
        "        digit = temp % 10\n",
        "        if ((checkDivisibility(n, digit)) == False) :\n",
        "            return False\n",
        " \n",
        "        temp = temp // 10\n",
        "     \n",
        "    return True\n",
        " \n",
        "# Driver function\n",
        "n = 128\n",
        " \n",
        "if (allDigitsDivide(n)) :\n",
        "    print(\"Yes\")\n",
        "else :\n",
        "    print(\"No\" )"
      ],
      "execution_count": 1,
      "outputs": [
        {
          "output_type": "stream",
          "text": [
            "Yes\n"
          ],
          "name": "stdout"
        }
      ]
    }
  ]
}