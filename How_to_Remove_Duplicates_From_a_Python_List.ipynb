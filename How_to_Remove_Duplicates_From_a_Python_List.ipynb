{
  "nbformat": 4,
  "nbformat_minor": 0,
  "metadata": {
    "colab": {
      "name": "How to Remove Duplicates From a Python List.ipynb",
      "provenance": [],
      "authorship_tag": "ABX9TyMMtdDvmu7pUmTKXzTQe0fg",
      "include_colab_link": true
    },
    "kernelspec": {
      "name": "python3",
      "display_name": "Python 3"
    }
  },
  "cells": [
    {
      "cell_type": "markdown",
      "metadata": {
        "id": "view-in-github",
        "colab_type": "text"
      },
      "source": [
        "<a href=\"https://colab.research.google.com/github/MdShahadatHossainbd/python/blob/main/How_to_Remove_Duplicates_From_a_Python_List.ipynb\" target=\"_parent\"><img src=\"https://colab.research.google.com/assets/colab-badge.svg\" alt=\"Open In Colab\"/></a>"
      ]
    },
    {
      "cell_type": "code",
      "metadata": {
        "colab": {
          "base_uri": "https://localhost:8080/"
        },
        "id": "hIROKWeWH47V",
        "outputId": "0cecd8a8-f0fc-4db4-c18c-930148000f5d"
      },
      "source": [
        "mylist = [\"a\", \"b\", \"a\", \"c\", \"c\"]\n",
        "mylist = list(dict.fromkeys(mylist))\n",
        "print(mylist) "
      ],
      "execution_count": 1,
      "outputs": [
        {
          "output_type": "stream",
          "text": [
            "['a', 'b', 'c']\n"
          ],
          "name": "stdout"
        }
      ]
    },
    {
      "cell_type": "code",
      "metadata": {
        "colab": {
          "base_uri": "https://localhost:8080/"
        },
        "id": "BVeneCaDOroe",
        "outputId": "4b35759d-c4f2-47dc-d321-ecb54cb08a3c"
      },
      "source": [
        "mylist = [\"a\", \"b\", \"a\", \"c\", \"c\",\"t\"]\n",
        "mylist = list( dict.fromkeys(mylist) )\n",
        "print(mylist) "
      ],
      "execution_count": 4,
      "outputs": [
        {
          "output_type": "stream",
          "text": [
            "['a', 'b', 'c', 't']\n"
          ],
          "name": "stdout"
        }
      ]
    },
    {
      "cell_type": "markdown",
      "metadata": {
        "id": "W93B8GNXO9CL"
      },
      "source": [
        "A List with Duplicates"
      ]
    },
    {
      "cell_type": "code",
      "metadata": {
        "colab": {
          "base_uri": "https://localhost:8080/"
        },
        "id": "jyfzWUa3O9pl",
        "outputId": "d10a9da6-d3a3-4b6b-cb6a-181c62e1085a"
      },
      "source": [
        "mylist = [\"a\", \"b\", \"a\", \"c\", \"c\"]\n",
        "mylist = list(dict.fromkeys(mylist))\n",
        "print(mylist)"
      ],
      "execution_count": 6,
      "outputs": [
        {
          "output_type": "stream",
          "text": [
            "['a', 'b', 'c']\n"
          ],
          "name": "stdout"
        }
      ]
    },
    {
      "cell_type": "markdown",
      "metadata": {
        "id": "9ryTenJfPBll"
      },
      "source": [
        "Create a Dictionary"
      ]
    },
    {
      "cell_type": "code",
      "metadata": {
        "colab": {
          "base_uri": "https://localhost:8080/"
        },
        "id": "kSeo7edNPEaB",
        "outputId": "bb1903db-001c-41f8-ceae-c1cd47d30018"
      },
      "source": [
        "mylist = [\"a\", \"b\", \"a\", \"c\", \"c\"]\n",
        "mylist = list( dict.fromkeys(mylist) )\n",
        "print(mylist) "
      ],
      "execution_count": 7,
      "outputs": [
        {
          "output_type": "stream",
          "text": [
            "['a', 'b', 'c']\n"
          ],
          "name": "stdout"
        }
      ]
    },
    {
      "cell_type": "markdown",
      "metadata": {
        "id": "d03SXzvkPLHL"
      },
      "source": [
        "Convert Into a List"
      ]
    },
    {
      "cell_type": "code",
      "metadata": {
        "colab": {
          "base_uri": "https://localhost:8080/"
        },
        "id": "1XpNlNJ-PNaA",
        "outputId": "f2985285-4a8a-4ab3-c9da-4a4253e6117d"
      },
      "source": [
        "mylist = [\"a\", \"b\", \"a\", \"c\", \"c\"]\n",
        "mylist = list( dict.fromkeys(mylist) )\n",
        "print(mylist) "
      ],
      "execution_count": 8,
      "outputs": [
        {
          "output_type": "stream",
          "text": [
            "['a', 'b', 'c']\n"
          ],
          "name": "stdout"
        }
      ]
    },
    {
      "cell_type": "markdown",
      "metadata": {
        "id": "tc47lVlhPRDV"
      },
      "source": [
        "Print the List"
      ]
    },
    {
      "cell_type": "code",
      "metadata": {
        "colab": {
          "base_uri": "https://localhost:8080/"
        },
        "id": "1Nvi3w7OPTvV",
        "outputId": "85e4dd66-b8e9-4915-8cba-6caa1be4bebf"
      },
      "source": [
        "mylist = [\"a\", \"b\", \"a\", \"c\", \"c\"]\n",
        "mylist = list(dict.fromkeys(mylist))\n",
        "print(mylist) "
      ],
      "execution_count": 9,
      "outputs": [
        {
          "output_type": "stream",
          "text": [
            "['a', 'b', 'c']\n"
          ],
          "name": "stdout"
        }
      ]
    },
    {
      "cell_type": "markdown",
      "metadata": {
        "id": "ZcQWqKD6PYxJ"
      },
      "source": [
        "Create a Function"
      ]
    },
    {
      "cell_type": "code",
      "metadata": {
        "colab": {
          "base_uri": "https://localhost:8080/"
        },
        "id": "o_QuIUBIPdEW",
        "outputId": "df8255b5-a341-4874-afbf-5c15794b2082"
      },
      "source": [
        "def my_function(x):\n",
        "  return list(dict.fromkeys(x))\n",
        "\n",
        "mylist = my_function([\"a\", \"b\", \"a\", \"c\", \"c\"])\n",
        "\n",
        "print(mylist) "
      ],
      "execution_count": 10,
      "outputs": [
        {
          "output_type": "stream",
          "text": [
            "['a', 'b', 'c']\n"
          ],
          "name": "stdout"
        }
      ]
    }
  ]
}