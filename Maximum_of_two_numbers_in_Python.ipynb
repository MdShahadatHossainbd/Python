{
  "nbformat": 4,
  "nbformat_minor": 0,
  "metadata": {
    "colab": {
      "name": "Maximum of two numbers in Python.ipynb",
      "provenance": [],
      "authorship_tag": "ABX9TyMVY81a4TuY9gUoUqQ5LQqf",
      "include_colab_link": true
    },
    "kernelspec": {
      "name": "python3",
      "display_name": "Python 3"
    }
  },
  "cells": [
    {
      "cell_type": "markdown",
      "metadata": {
        "id": "view-in-github",
        "colab_type": "text"
      },
      "source": [
        "<a href=\"https://colab.research.google.com/github/MdShahadatHossainbd/Python/blob/main/Maximum_of_two_numbers_in_Python.ipynb\" target=\"_parent\"><img src=\"https://colab.research.google.com/assets/colab-badge.svg\" alt=\"Open In Colab\"/></a>"
      ]
    },
    {
      "cell_type": "code",
      "metadata": {
        "colab": {
          "base_uri": "https://localhost:8080/"
        },
        "id": "ZTHthBXMgAR8",
        "outputId": "76d22851-a4de-4107-9e39-83e030e25f6c"
      },
      "source": [
        "# Python program to find the maximum of two numbers \n",
        "\n",
        "def maximum(a, b): \n",
        "\t\n",
        "\tif a >= b: \n",
        "\t\treturn a \n",
        "\telse: \n",
        "\t\treturn b \n",
        "\t\n",
        "# Driver code \n",
        "a = 2\n",
        "b = 4\n",
        "print(maximum(a, b)) \n"
      ],
      "execution_count": 1,
      "outputs": [
        {
          "output_type": "stream",
          "text": [
            "4\n"
          ],
          "name": "stdout"
        }
      ]
    },
    {
      "cell_type": "code",
      "metadata": {
        "colab": {
          "base_uri": "https://localhost:8080/"
        },
        "id": "dqIKPVUBgMYx",
        "outputId": "78a3ff14-30ad-43f6-b949-6d7912b996dd"
      },
      "source": [
        "# Python program to find the maximum of two numbers \n",
        "\n",
        "a = 2\n",
        "b = 4\n",
        "\n",
        "maximum = max(a, b) \n",
        "print(maximum) \n"
      ],
      "execution_count": 2,
      "outputs": [
        {
          "output_type": "stream",
          "text": [
            "4\n"
          ],
          "name": "stdout"
        }
      ]
    }
  ]
}