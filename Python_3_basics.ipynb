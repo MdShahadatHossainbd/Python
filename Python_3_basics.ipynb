{
  "nbformat": 4,
  "nbformat_minor": 0,
  "metadata": {
    "colab": {
      "name": "Python 3 basics.ipynb",
      "provenance": [],
      "authorship_tag": "ABX9TyNFR0ZlNPrKZ5wmJRgBWbKO",
      "include_colab_link": true
    },
    "kernelspec": {
      "name": "python3",
      "display_name": "Python 3"
    }
  },
  "cells": [
    {
      "cell_type": "markdown",
      "metadata": {
        "id": "view-in-github",
        "colab_type": "text"
      },
      "source": [
        "<a href=\"https://colab.research.google.com/github/MdShahadatHossainbd/Python/blob/main/Python_3_basics.ipynb\" target=\"_parent\"><img src=\"https://colab.research.google.com/assets/colab-badge.svg\" alt=\"Open In Colab\"/></a>"
      ]
    },
    {
      "cell_type": "code",
      "metadata": {
        "colab": {
          "base_uri": "https://localhost:8080/"
        },
        "id": "4gylWQI1CMbH",
        "outputId": "dc11eb37-4ae2-49d7-e633-e5181b44589a"
      },
      "source": [
        "# Python code for \"Hello World\" \n",
        "# nothing else to type...see how simple is the syntax. \n",
        "\n",
        "print(\"Hello World\")\t "
      ],
      "execution_count": 1,
      "outputs": [
        {
          "output_type": "stream",
          "text": [
            "Hello World\n"
          ],
          "name": "stdout"
        }
      ]
    },
    {
      "cell_type": "code",
      "metadata": {
        "colab": {
          "base_uri": "https://localhost:8080/"
        },
        "id": "c5PYoiTtC19c",
        "outputId": "1e311c8e-2898-4384-90ee-a90adfe37fa5"
      },
      "source": [
        "# Python program to declare variables \n",
        "myNumber = 3\n",
        "print(myNumber) \n",
        "\n",
        "myNumber2 = 4.5\n",
        "print(myNumber2) \n",
        "\n",
        "myNumber =\"helloworld\"\n",
        "print(myNumber) "
      ],
      "execution_count": 2,
      "outputs": [
        {
          "output_type": "stream",
          "text": [
            "3\n",
            "4.5\n",
            "helloworld\n"
          ],
          "name": "stdout"
        }
      ]
    },
    {
      "cell_type": "code",
      "metadata": {
        "colab": {
          "base_uri": "https://localhost:8080/"
        },
        "id": "IP06nTiKC5KQ",
        "outputId": "3c85e117-22f4-4a3d-f122-30a11d362a64"
      },
      "source": [
        "# Python program to illustrate a list \n",
        "\n",
        "# creates a empty list \n",
        "nums = [] \n",
        "\n",
        "# appending data in list \n",
        "nums.append(21) \n",
        "nums.append(40.5) \n",
        "nums.append(\"String\") \n",
        "\n",
        "print(nums) "
      ],
      "execution_count": 3,
      "outputs": [
        {
          "output_type": "stream",
          "text": [
            "[21, 40.5, 'String']\n"
          ],
          "name": "stdout"
        }
      ]
    },
    {
      "cell_type": "code",
      "metadata": {
        "colab": {
          "base_uri": "https://localhost:8080/"
        },
        "id": "Lg8cBcfkC_Bz",
        "outputId": "4c8a57d1-62e2-4556-fbfd-22c32bd0224d"
      },
      "source": [
        "# Python program to illustrate \n",
        "# getting input from user \n",
        "name = input(\"Enter your name: \") \n",
        "\n",
        "# user entered the name 'harssh' \n",
        "print(\"hello\", name) "
      ],
      "execution_count": 4,
      "outputs": [
        {
          "output_type": "stream",
          "text": [
            "Enter your name: Shahadat\n",
            "hello Shahadat\n"
          ],
          "name": "stdout"
        }
      ]
    },
    {
      "cell_type": "code",
      "metadata": {
        "colab": {
          "base_uri": "https://localhost:8080/"
        },
        "id": "c6McmOW3DDQI",
        "outputId": "97a35091-88ed-4434-e3d7-9e4d7a844727"
      },
      "source": [
        "# Python3 program to get input from user \n",
        "\n",
        "# accepting integer from the user \n",
        "# the return type of input() function is string , \n",
        "# so we need to convert the input to integer \n",
        "num1 = int(input(\"Enter num1: \")) \n",
        "num2 = int(input(\"Enter num2: \")) \n",
        "\n",
        "num3 = num1 * num2 \n",
        "print(\"Product is: \", num3) "
      ],
      "execution_count": 5,
      "outputs": [
        {
          "output_type": "stream",
          "text": [
            "Enter num1: 5\n",
            "Enter num2: 6\n",
            "Product is:  30\n"
          ],
          "name": "stdout"
        }
      ]
    },
    {
      "cell_type": "code",
      "metadata": {
        "colab": {
          "base_uri": "https://localhost:8080/"
        },
        "id": "di8ACaevDI4i",
        "outputId": "d95b2227-e9a2-4767-d816-97a17c3c9af3"
      },
      "source": [
        "# Python program to illustrate \n",
        "# selection statement \n",
        "\n",
        "num1 = 34\n",
        "if(num1>12): \n",
        "\tprint(\"Num1 is good\") \n",
        "elif(num1>35): \n",
        "\tprint(\"Num2 is not gooooo....\") \n",
        "else: \n",
        "\tprint(\"Num2 is great\") "
      ],
      "execution_count": 6,
      "outputs": [
        {
          "output_type": "stream",
          "text": [
            "Num1 is good\n"
          ],
          "name": "stdout"
        }
      ]
    },
    {
      "cell_type": "code",
      "metadata": {
        "colab": {
          "base_uri": "https://localhost:8080/"
        },
        "id": "lvmBTBSSDNA1",
        "outputId": "e6f26062-73a7-45a1-bb5d-46bf375112fc"
      },
      "source": [
        "# Python program to illustrate \n",
        "# functions \n",
        "def hello(): \n",
        "\tprint(\"hello\") \n",
        "\tprint(\"hello again\") \n",
        "hello() \n",
        "\n",
        "# calling function \n",
        "hello()\t\t\t "
      ],
      "execution_count": 7,
      "outputs": [
        {
          "output_type": "stream",
          "text": [
            "hello\n",
            "hello again\n",
            "hello\n",
            "hello again\n"
          ],
          "name": "stdout"
        }
      ]
    },
    {
      "cell_type": "code",
      "metadata": {
        "colab": {
          "base_uri": "https://localhost:8080/"
        },
        "id": "RevUT52QDSQ5",
        "outputId": "ece658a2-faba-4b8d-aee9-46e445b4288a"
      },
      "source": [
        "# Python program to illustrate \n",
        "# function with main \n",
        "def getInteger(): \n",
        "\tresult = int(input(\"Enter integer: \")) \n",
        "\treturn result \n",
        "\n",
        "def Main(): \n",
        "\tprint(\"Started\") \n",
        "\n",
        "\t# calling the getInteger function and \n",
        "\t# storing its returned value in the output variable \n",
        "\toutput = getInteger()\t \n",
        "\tprint(output) \n",
        "\n",
        "# now we are required to tell Python \n",
        "# for 'Main' function existence \n",
        "if __name__==\"__main__\": \n",
        "\tMain() "
      ],
      "execution_count": 8,
      "outputs": [
        {
          "output_type": "stream",
          "text": [
            "Started\n",
            "Enter integer: 6\n",
            "6\n"
          ],
          "name": "stdout"
        }
      ]
    },
    {
      "cell_type": "code",
      "metadata": {
        "colab": {
          "base_uri": "https://localhost:8080/"
        },
        "id": "NUGEBwzeDVki",
        "outputId": "417f1767-d16e-4d14-9d8a-8e18efcdbb71"
      },
      "source": [
        "# Python program to illustrate \n",
        "# a simple for loop \n",
        "\n",
        "for step in range(5):\t \n",
        "\tprint(step) "
      ],
      "execution_count": 9,
      "outputs": [
        {
          "output_type": "stream",
          "text": [
            "0\n",
            "1\n",
            "2\n",
            "3\n",
            "4\n"
          ],
          "name": "stdout"
        }
      ]
    },
    {
      "cell_type": "code",
      "metadata": {
        "colab": {
          "base_uri": "https://localhost:8080/"
        },
        "id": "JMKRAudkDbGt",
        "outputId": "56418e02-bbe9-4270-a368-3fe534f235c3"
      },
      "source": [
        "# Python program to illustrate \n",
        "# math module \n",
        "import math \n",
        "\n",
        "def Main(): \n",
        "\tnum = -85\n",
        "\n",
        "\t# fabs is used to get the absolute \n",
        "\t# value of a decimal \n",
        "\tnum = math.fabs(num) \n",
        "\tprint(num) \n",
        "\t\n",
        "\t\n",
        "if __name__==\"__main__\": \n",
        "\tMain() "
      ],
      "execution_count": 10,
      "outputs": [
        {
          "output_type": "stream",
          "text": [
            "85.0\n"
          ],
          "name": "stdout"
        }
      ]
    }
  ]
}