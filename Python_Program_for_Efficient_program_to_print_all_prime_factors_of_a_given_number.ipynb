{
  "nbformat": 4,
  "nbformat_minor": 0,
  "metadata": {
    "colab": {
      "name": "Python Program for Efficient program to print all prime factors of a given number.ipynb",
      "provenance": [],
      "collapsed_sections": [],
      "authorship_tag": "ABX9TyP5vz8whkW017eBRNx+ab/R",
      "include_colab_link": true
    },
    "kernelspec": {
      "name": "python3",
      "display_name": "Python 3"
    }
  },
  "cells": [
    {
      "cell_type": "markdown",
      "metadata": {
        "id": "view-in-github",
        "colab_type": "text"
      },
      "source": [
        "<a href=\"https://colab.research.google.com/github/MdShahadatHossainbd/Python/blob/main/Python_Program_for_Efficient_program_to_print_all_prime_factors_of_a_given_number.ipynb\" target=\"_parent\"><img src=\"https://colab.research.google.com/assets/colab-badge.svg\" alt=\"Open In Colab\"/></a>"
      ]
    },
    {
      "cell_type": "code",
      "metadata": {
        "colab": {
          "base_uri": "https://localhost:8080/"
        },
        "id": "viiewGxyl0I6",
        "outputId": "23e7599b-06b3-45d9-93f7-8217236939c7"
      },
      "source": [
        "# Python program to print prime factors \n",
        "\n",
        "import math \n",
        "\n",
        "# A function to print all prime factors of  a given number n \n",
        "def primeFactors(n): \n",
        "\t\n",
        "\t# Print the number of two\\'s that divide n \n",
        "\twhile n % 2 == 0: \n",
        "\t\tprint(2)\n",
        "\t\tn = n / 2\n",
        "\t\t\n",
        "\t# n must be odd at this point so a skip of 2 ( i = i + 2) can be used \n",
        "\tfor i in range(3,int(math.sqrt(n))+1,2): \n",
        "\t\t\n",
        "\t\t# while i divides n , print i ad divide n \n",
        "\t\twhile n % i== 0: \n",
        "\t\t\tprint(i)\n",
        "\t\t\tn = n / i \n",
        "\t\t\t\n",
        "\t# Condition if n is a prime number greater than 2 \n",
        "\tif n > 2: \n",
        "\t\tprint(n) \n",
        "\t\t\n",
        "# Driver Program to test above function \n",
        "\n",
        "n = 315\n",
        "primeFactors(n) "
      ],
      "execution_count": 2,
      "outputs": [
        {
          "output_type": "stream",
          "text": [
            "3\n",
            "3\n",
            "5\n",
            "7\n"
          ],
          "name": "stdout"
        }
      ]
    }
  ]
}