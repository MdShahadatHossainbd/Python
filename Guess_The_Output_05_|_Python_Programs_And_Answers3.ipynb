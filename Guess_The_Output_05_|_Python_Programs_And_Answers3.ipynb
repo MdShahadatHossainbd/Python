{
  "nbformat": 4,
  "nbformat_minor": 0,
  "metadata": {
    "colab": {
      "name": "Guess The Output 05 | Python Programs And Answers3.ipynb",
      "provenance": [],
      "authorship_tag": "ABX9TyMqOPe3+KoRhJdsmSl+EQKx",
      "include_colab_link": true
    },
    "kernelspec": {
      "name": "python3",
      "display_name": "Python 3"
    }
  },
  "cells": [
    {
      "cell_type": "markdown",
      "metadata": {
        "id": "view-in-github",
        "colab_type": "text"
      },
      "source": [
        "<a href=\"https://colab.research.google.com/github/MdShahadatHossainbd/Python/blob/main/Guess_The_Output_05_%7C_Python_Programs_And_Answers3.ipynb\" target=\"_parent\"><img src=\"https://colab.research.google.com/assets/colab-badge.svg\" alt=\"Open In Colab\"/></a>"
      ]
    },
    {
      "cell_type": "code",
      "metadata": {
        "colab": {
          "base_uri": "https://localhost:8080/"
        },
        "id": "HwfAf0bLe5kq",
        "outputId": "b6f3b126-6987-413a-b6f4-bcc27d44569c"
      },
      "source": [
        "for i in range(1,20):\n",
        "  if i == 5:\n",
        "    break\n",
        "  else:\n",
        "    print(i)"
      ],
      "execution_count": null,
      "outputs": [
        {
          "output_type": "stream",
          "text": [
            "1\n",
            "2\n",
            "3\n",
            "4\n"
          ],
          "name": "stdout"
        }
      ]
    },
    {
      "cell_type": "code",
      "metadata": {
        "colab": {
          "base_uri": "https://localhost:8080/"
        },
        "id": "OJQ8rIQsfUDv",
        "outputId": "b9a9f3ef-f1f1-4ba3-a5ac-a54c4adc85de"
      },
      "source": [
        "for i in range(1,20):\n",
        "  if i == 5:\n",
        "    break\n",
        "  else:\n",
        "    print(i)\n",
        "else:\n",
        "  print(\"Hello\")"
      ],
      "execution_count": null,
      "outputs": [
        {
          "output_type": "stream",
          "text": [
            "1\n",
            "2\n",
            "3\n",
            "4\n"
          ],
          "name": "stdout"
        }
      ]
    },
    {
      "cell_type": "code",
      "metadata": {
        "colab": {
          "base_uri": "https://localhost:8080/"
        },
        "id": "-DeWB8c2gDmO",
        "outputId": "ba403658-b6d1-486f-9788-89f7ebcdf333"
      },
      "source": [
        "for i in range(1,20):\n",
        "  if i == 5:\n",
        "    continue\n",
        "  else:\n",
        "    print(i)\n",
        "else:\n",
        "  print(\"Hello\")"
      ],
      "execution_count": 3,
      "outputs": [
        {
          "output_type": "stream",
          "text": [
            "1\n",
            "2\n",
            "3\n",
            "4\n",
            "6\n",
            "7\n",
            "8\n",
            "9\n",
            "10\n",
            "11\n",
            "12\n",
            "13\n",
            "14\n",
            "15\n",
            "16\n",
            "17\n",
            "18\n",
            "19\n",
            "Hello\n"
          ],
          "name": "stdout"
        }
      ]
    }
  ]
}