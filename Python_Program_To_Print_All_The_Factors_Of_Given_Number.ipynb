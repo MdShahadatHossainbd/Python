{
  "nbformat": 4,
  "nbformat_minor": 0,
  "metadata": {
    "colab": {
      "name": "Python Program To Print All The Factors Of Given Number.ipynb",
      "provenance": [],
      "authorship_tag": "ABX9TyN9JqTCmJ3G+zeblLiP76UC",
      "include_colab_link": true
    },
    "kernelspec": {
      "name": "python3",
      "display_name": "Python 3"
    }
  },
  "cells": [
    {
      "cell_type": "markdown",
      "metadata": {
        "id": "view-in-github",
        "colab_type": "text"
      },
      "source": [
        "<a href=\"https://colab.research.google.com/github/MdShahadatHossainbd/python/blob/main/Python_Program_To_Print_All_The_Factors_Of_Given_Number.ipynb\" target=\"_parent\"><img src=\"https://colab.research.google.com/assets/colab-badge.svg\" alt=\"Open In Colab\"/></a>"
      ]
    },
    {
      "cell_type": "code",
      "metadata": {
        "colab": {
          "base_uri": "https://localhost:8080/"
        },
        "id": "JSemmoyrUfVw",
        "outputId": "62d8eacb-e142-480f-e7b1-5eac0561c751"
      },
      "source": [
        "x = int(input(\"Enter The Number: \"))\n",
        "print(\"Factors of\",x,\"is:\")\n",
        "for i in range(1,x+1):\n",
        "  if x % i == 0:\n",
        "    print(i)"
      ],
      "execution_count": 1,
      "outputs": [
        {
          "output_type": "stream",
          "text": [
            "Enter The Number: 10\n",
            "Factors of 10 is:\n",
            "1\n",
            "2\n",
            "5\n",
            "10\n"
          ],
          "name": "stdout"
        }
      ]
    },
    {
      "cell_type": "code",
      "metadata": {
        "colab": {
          "base_uri": "https://localhost:8080/"
        },
        "id": "Od9Yy59qVWfM",
        "outputId": "7fb844db-369a-49f9-9a13-4319acf0494a"
      },
      "source": [
        "x = int(input(\"Enter The Number: \"))\n",
        "print(\"Factors of\",x,\"is:\")\n",
        "for i in range(1,x+1):\n",
        "  if x % i == 0:\n",
        "    print(i)"
      ],
      "execution_count": 2,
      "outputs": [
        {
          "output_type": "stream",
          "text": [
            "Enter The Number: 11\n",
            "Factors of 11 is:\n",
            "1\n",
            "11\n"
          ],
          "name": "stdout"
        }
      ]
    },
    {
      "cell_type": "code",
      "metadata": {
        "colab": {
          "base_uri": "https://localhost:8080/"
        },
        "id": "6px3rMxAVbNd",
        "outputId": "1d79d144-74aa-45c9-9836-e141e842652a"
      },
      "source": [
        "x = int(input(\"Enter The Number: \"))\n",
        "print(\"Factors of\",x,\"is:\")\n",
        "for i in range(1,x+1):\n",
        "  if x % i == 0:\n",
        "    print(i)"
      ],
      "execution_count": 4,
      "outputs": [
        {
          "output_type": "stream",
          "text": [
            "Enter The Number: 101\n",
            "Factors of 101 is:\n",
            "1\n",
            "101\n"
          ],
          "name": "stdout"
        }
      ]
    }
  ]
}