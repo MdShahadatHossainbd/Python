{
  "nbformat": 4,
  "nbformat_minor": 0,
  "metadata": {
    "colab": {
      "name": "Python Program for Difference between sums of odd and even digits.ipynb",
      "provenance": [],
      "authorship_tag": "ABX9TyNpL7rw86bC0me4KwiXKlk7",
      "include_colab_link": true
    },
    "kernelspec": {
      "name": "python3",
      "display_name": "Python 3"
    }
  },
  "cells": [
    {
      "cell_type": "markdown",
      "metadata": {
        "id": "view-in-github",
        "colab_type": "text"
      },
      "source": [
        "<a href=\"https://colab.research.google.com/github/MdShahadatHossainbd/Python/blob/main/Python_Program_for_Difference_between_sums_of_odd_and_even_digits.ipynb\" target=\"_parent\"><img src=\"https://colab.research.google.com/assets/colab-badge.svg\" alt=\"Open In Colab\"/></a>"
      ]
    },
    {
      "cell_type": "code",
      "metadata": {
        "colab": {
          "base_uri": "https://localhost:8080/"
        },
        "id": "FUAlb5SeAE91",
        "outputId": "40c1c1cd-435c-4d61-92bb-4dea8569f203"
      },
      "source": [
        "# Python program to check if difference between sum of odd digits and sum of even digits is 0 or not \n",
        "\n",
        "def isDiff(n): \n",
        "\treturn (n % 11 == 0) \n",
        "\n",
        "# Driver code \n",
        "n = 1243; \n",
        "if (isDiff(n)): \n",
        "\tprint(\"Yes\") \n",
        "else: \n",
        "\tprint(\"No\") "
      ],
      "execution_count": 1,
      "outputs": [
        {
          "output_type": "stream",
          "text": [
            "Yes\n"
          ],
          "name": "stdout"
        }
      ]
    }
  ]
}