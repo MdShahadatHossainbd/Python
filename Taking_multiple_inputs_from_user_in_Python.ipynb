{
  "nbformat": 4,
  "nbformat_minor": 0,
  "metadata": {
    "colab": {
      "name": "Taking multiple inputs from user in Python.ipynb",
      "provenance": [],
      "authorship_tag": "ABX9TyMQpfrIE4Vxa9gBhxCngEx+",
      "include_colab_link": true
    },
    "kernelspec": {
      "name": "python3",
      "display_name": "Python 3"
    }
  },
  "cells": [
    {
      "cell_type": "markdown",
      "metadata": {
        "id": "view-in-github",
        "colab_type": "text"
      },
      "source": [
        "<a href=\"https://colab.research.google.com/github/MdShahadatHossainbd/Python/blob/main/Taking_multiple_inputs_from_user_in_Python.ipynb\" target=\"_parent\"><img src=\"https://colab.research.google.com/assets/colab-badge.svg\" alt=\"Open In Colab\"/></a>"
      ]
    },
    {
      "cell_type": "code",
      "metadata": {
        "colab": {
          "base_uri": "https://localhost:8080/"
        },
        "id": "4ygIEsBDb3ZB",
        "outputId": "98b6f2fe-b8ef-471e-f0b8-ebe599d294a1"
      },
      "source": [
        "# Python program showing how to\r\n",
        "# multiple input using split\r\n",
        "# taking two inputs at a time\r\n",
        "x, y = input(\"Enter a two value: \").split()\r\n",
        "print(\"Number of boys: \", x)\r\n",
        "print(\"Number of girls: \", y)\r\n",
        "print()\r\n",
        "\r\n",
        "# taking three inputs at a time\r\n",
        "x, y, z = input(\"Enter a three value: \").split()\r\n",
        "print(\"Total number of students: \", x)\r\n",
        "print(\"Number of boys is : \", y)\r\n",
        "print(\"Number of girls is : \", z)\r\n",
        "print()\r\n",
        "\r\n",
        "# taking two inputs at a time\r\n",
        "a, b = input(\"Enter a two value: \").split()\r\n",
        "print(\"First number is {} and second number is {}\".format(a, b))\r\n",
        "print()\r\n",
        "\r\n",
        "# taking multiple inputs at a time \r\n",
        "# and type casting using list() function\r\n",
        "x = list(map(int, input(\"Enter a multiple value: \").split()))\r\n",
        "print(\"List of students: \", x)"
      ],
      "execution_count": 4,
      "outputs": [
        {
          "output_type": "stream",
          "text": [
            "Enter a two value: 5 6\n",
            "Number of boys:  5\n",
            "Number of girls:  6\n",
            "\n",
            "Enter a three value: 3 5 6\n",
            "Total number of students:  3\n",
            "Number of boys is :  5\n",
            "Number of girls is :  6\n",
            "\n",
            "Enter a two value: 3 5\n",
            "First number is 3 and second number is 5\n",
            "\n",
            "Enter a multiple value: 34 5 6 7 1 5\n",
            "List of students:  [34, 5, 6, 7, 1, 5]\n"
          ],
          "name": "stdout"
        }
      ]
    },
    {
      "cell_type": "code",
      "metadata": {
        "colab": {
          "base_uri": "https://localhost:8080/"
        },
        "id": "Y-2H35C_cAiS",
        "outputId": "4111be0f-83a8-4e2f-e4d2-b29ef73f566c"
      },
      "source": [
        "# Python program showing\r\n",
        "# how to take multiple input\r\n",
        "# using List comprehension\r\n",
        "# taking two input at a time\r\n",
        "x, y = [int(x) for x in input(\"Enter two value: \").split()]\r\n",
        "print(\"First Number is: \", x)\r\n",
        "print(\"Second Number is: \", y)\r\n",
        "print()\r\n",
        "\r\n",
        "# taking three input at a time\r\n",
        "x, y, z = [int(x) for x in input(\"Enter three value: \").split()]\r\n",
        "print(\"First Number is: \", x)\r\n",
        "print(\"Second Number is: \", y)\r\n",
        "print(\"Third Number is: \", z)\r\n",
        "print()\r\n",
        "\r\n",
        "# taking two inputs at a time\r\n",
        "x, y = [int(x) for x in input(\"Enter two value: \").split()]\r\n",
        "print(\"First number is {} and second number is {}\".format(x, y))\r\n",
        "print()\r\n",
        "\r\n",
        "# taking multiple inputs at a time \r\n",
        "x = [int(x) for x in input(\"Enter multiple value: \").split()]\r\n",
        "print(\"Number of list is: \", x) "
      ],
      "execution_count": 5,
      "outputs": [
        {
          "output_type": "stream",
          "text": [
            "Enter two value: 2 5\n",
            "First Number is:  2\n",
            "Second Number is:  5\n",
            "\n",
            "Enter three value: 5 7 7\n",
            "First Number is:  5\n",
            "Second Number is:  7\n",
            "Third Number is:  7\n",
            "\n",
            "Enter two value: 5 7\n",
            "First number is 5 and second number is 7\n",
            "\n",
            "Enter multiple value: 3 5 7 9\n",
            "Number of list is:  [3, 5, 7, 9]\n"
          ],
          "name": "stdout"
        }
      ]
    },
    {
      "cell_type": "code",
      "metadata": {
        "colab": {
          "base_uri": "https://localhost:8080/"
        },
        "id": "ZG3PvGCgc0fY",
        "outputId": "7f2f7d09-dc06-4b7d-c60b-31311a640768"
      },
      "source": [
        "# taking multiple inputs at a time separated by comma\r\n",
        "x = [int(x) for x in input(\"Enter multiple value: \").split(\",\")]\r\n",
        "print(\"Number of list is: \", x) "
      ],
      "execution_count": 7,
      "outputs": [
        {
          "output_type": "stream",
          "text": [
            "Enter multiple value: 5,7,8\n",
            "Number of list is:  [5, 7, 8]\n"
          ],
          "name": "stdout"
        }
      ]
    }
  ]
}