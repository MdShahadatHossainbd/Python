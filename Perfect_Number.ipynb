{
  "nbformat": 4,
  "nbformat_minor": 0,
  "metadata": {
    "colab": {
      "name": "Perfect Number.ipynb",
      "provenance": [],
      "authorship_tag": "ABX9TyOO6dbeo7dsQbOsMMa3vGfx",
      "include_colab_link": true
    },
    "kernelspec": {
      "name": "python3",
      "display_name": "Python 3"
    }
  },
  "cells": [
    {
      "cell_type": "markdown",
      "metadata": {
        "id": "view-in-github",
        "colab_type": "text"
      },
      "source": [
        "<a href=\"https://colab.research.google.com/github/MdShahadatHossainbd/Python/blob/main/Perfect_Number.ipynb\" target=\"_parent\"><img src=\"https://colab.research.google.com/assets/colab-badge.svg\" alt=\"Open In Colab\"/></a>"
      ]
    },
    {
      "cell_type": "code",
      "metadata": {
        "colab": {
          "base_uri": "https://localhost:8080/"
        },
        "id": "0quyQHgQmR0n",
        "outputId": "2c8a95fc-78ca-442b-ecf0-d6f8b6beffc0"
      },
      "source": [
        "# Python3 code to check if a given \n",
        "# number is perfect or not \n",
        "\n",
        "# Returns true if n is perfect \n",
        "def isPerfect( n ): \n",
        "\t\n",
        "\t# To store sum of divisors \n",
        "\tsum = 1\n",
        "\t\n",
        "\t# Find all divisors and add them \n",
        "\ti = 2\n",
        "\twhile i * i <= n: \n",
        "\t\tif n % i == 0: \n",
        "\t\t\tsum = sum + i + n/i \n",
        "\t\ti += 1\n",
        "\t\n",
        "\t# If sum of divisors is equal to \n",
        "\t# n, then n is a perfect number \n",
        "\t\n",
        "\treturn (True if sum == n and n!=1 else False) \n",
        "\n",
        "# Driver program \n",
        "print(\"Below are all perfect numbers till 10000\") \n",
        "n = 2\n",
        "for n in range (10000): \n",
        "\tif isPerfect (n): \n",
        "\t\tprint(n , \" is a perfect number\") \n",
        "\t\t"
      ],
      "execution_count": 1,
      "outputs": [
        {
          "output_type": "stream",
          "text": [
            "Below are all perfect numbers till 10000\n",
            "6  is a perfect number\n",
            "28  is a perfect number\n",
            "496  is a perfect number\n",
            "8128  is a perfect number\n"
          ],
          "name": "stdout"
        }
      ]
    }
  ]
}