{
  "nbformat": 4,
  "nbformat_minor": 0,
  "metadata": {
    "colab": {
      "name": " Subarray with given sum .ipynb",
      "provenance": [],
      "authorship_tag": "ABX9TyOi78D3d0aIdXpotxXB252z",
      "include_colab_link": true
    },
    "kernelspec": {
      "name": "python3",
      "display_name": "Python 3"
    }
  },
  "cells": [
    {
      "cell_type": "markdown",
      "metadata": {
        "id": "view-in-github",
        "colab_type": "text"
      },
      "source": [
        "<a href=\"https://colab.research.google.com/github/MdShahadatHossainbd/Python/blob/main/Subarray_with_given_sum_.ipynb\" target=\"_parent\"><img src=\"https://colab.research.google.com/assets/colab-badge.svg\" alt=\"Open In Colab\"/></a>"
      ]
    },
    {
      "cell_type": "code",
      "metadata": {
        "colab": {
          "base_uri": "https://localhost:8080/"
        },
        "id": "2ESAd9Fye-ts",
        "outputId": "9e321b72-7c7d-4618-a22b-9b1c5ccfbd48"
      },
      "source": [
        "# Returns true if the\n",
        "# there is a subarray\n",
        "# of arr[] with sum\n",
        "# equal to 'sum' \n",
        "# otherwise returns\n",
        "# false. Also, prints\n",
        "# the result \n",
        "def subArraySum(arr, n, sum):\n",
        "    \n",
        "    # Pick a starting \n",
        "    # point\n",
        "    for i in range(n):\n",
        "        curr_sum = arr[i]\n",
        "    \n",
        "        # try all subarrays\n",
        "        # starting with 'i'\n",
        "        j = i + 1\n",
        "        while j <= n:\n",
        "        \n",
        "            if curr_sum == sum:\n",
        "                print (\"Sum found between\")\n",
        "                print(\"indexes % d and % d\"%( i, j-1))\n",
        "                \n",
        "                return 1\n",
        "                \n",
        "            if curr_sum > sum or j == n:\n",
        "                break\n",
        "            \n",
        "            curr_sum = curr_sum + arr[j]\n",
        "            j += 1\n",
        "\n",
        "    print (\"No subarray found\")\n",
        "    return 0\n",
        "\n",
        "# Driver program \n",
        "arr = [15, 2, 4, 8, 9, 5, 10, 23]\n",
        "n = len(arr)\n",
        "sum = 23\n",
        "\n",
        "subArraySum(arr, n, sum)"
      ],
      "execution_count": 1,
      "outputs": [
        {
          "output_type": "stream",
          "text": [
            "Sum found between\n",
            "indexes  1 and  4\n"
          ],
          "name": "stdout"
        },
        {
          "output_type": "execute_result",
          "data": {
            "text/plain": [
              "1"
            ]
          },
          "metadata": {
            "tags": []
          },
          "execution_count": 1
        }
      ]
    }
  ]
}