{
  "nbformat": 4,
  "nbformat_minor": 0,
  "metadata": {
    "colab": {
      "name": "How to Add Two Numbers in Python.ipynb",
      "provenance": [],
      "authorship_tag": "ABX9TyOBrfFLT186wzmiWWBlJFdW",
      "include_colab_link": true
    },
    "kernelspec": {
      "name": "python3",
      "display_name": "Python 3"
    }
  },
  "cells": [
    {
      "cell_type": "markdown",
      "metadata": {
        "id": "view-in-github",
        "colab_type": "text"
      },
      "source": [
        "<a href=\"https://colab.research.google.com/github/MdShahadatHossainbd/python/blob/main/How_to_Add_Two_Numbers_in_Python.ipynb\" target=\"_parent\"><img src=\"https://colab.research.google.com/assets/colab-badge.svg\" alt=\"Open In Colab\"/></a>"
      ]
    },
    {
      "cell_type": "code",
      "metadata": {
        "colab": {
          "base_uri": "https://localhost:8080/"
        },
        "id": "44svdnntFAjc",
        "outputId": "f3072751-17db-43ba-9a1c-19c5c0fe005d"
      },
      "source": [
        "x = 5\n",
        "y = 10\n",
        "print(x + y)"
      ],
      "execution_count": 1,
      "outputs": [
        {
          "output_type": "stream",
          "text": [
            "15\n"
          ],
          "name": "stdout"
        }
      ]
    },
    {
      "cell_type": "markdown",
      "metadata": {
        "id": "dVMg2Y5KHUN_"
      },
      "source": [
        "Add Two Numbers with User Input"
      ]
    },
    {
      "cell_type": "code",
      "metadata": {
        "colab": {
          "base_uri": "https://localhost:8080/"
        },
        "id": "DyE696SaHQq9",
        "outputId": "57fee749-187a-4680-c68c-c2125611ef0b"
      },
      "source": [
        "x = input(\"Type a number: \")\n",
        "y = input(\"Type another number: \")\n",
        "\n",
        "sum = int(x) + int(y)\n",
        "\n",
        "print(\"The sum is: \", sum) "
      ],
      "execution_count": 2,
      "outputs": [
        {
          "output_type": "stream",
          "text": [
            "Type a number: 4\n",
            "Type another number: 7\n",
            "The sum is:  11\n"
          ],
          "name": "stdout"
        }
      ]
    },
    {
      "cell_type": "code",
      "metadata": {
        "colab": {
          "base_uri": "https://localhost:8080/"
        },
        "id": "fGggBMecHgY8",
        "outputId": "adbde463-a068-4b2a-9522-c0550baae061"
      },
      "source": [
        "x = int(input(\"Type a number: \"))\n",
        "y = int(input(\"Type another number: \"))\n",
        "\n",
        "sum = x + y\n",
        "\n",
        "print(\"The sum is: \", sum) "
      ],
      "execution_count": 3,
      "outputs": [
        {
          "output_type": "stream",
          "text": [
            "Type a number: 56\n",
            "Type another number: 45\n",
            "The sum is:  101\n"
          ],
          "name": "stdout"
        }
      ]
    }
  ]
}