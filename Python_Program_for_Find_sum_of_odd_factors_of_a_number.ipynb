{
  "nbformat": 4,
  "nbformat_minor": 0,
  "metadata": {
    "colab": {
      "name": "Python Program for Find sum of odd factors of a number.ipynb",
      "provenance": [],
      "authorship_tag": "ABX9TyPQq+XxbI7W//VV0nqBeTwd",
      "include_colab_link": true
    },
    "kernelspec": {
      "name": "python3",
      "display_name": "Python 3"
    }
  },
  "cells": [
    {
      "cell_type": "markdown",
      "metadata": {
        "id": "view-in-github",
        "colab_type": "text"
      },
      "source": [
        "<a href=\"https://colab.research.google.com/github/MdShahadatHossainbd/Python/blob/main/Python_Program_for_Find_sum_of_odd_factors_of_a_number.ipynb\" target=\"_parent\"><img src=\"https://colab.research.google.com/assets/colab-badge.svg\" alt=\"Open In Colab\"/></a>"
      ]
    },
    {
      "cell_type": "code",
      "metadata": {
        "colab": {
          "base_uri": "https://localhost:8080/"
        },
        "id": "FkF5i0qW0FKF",
        "outputId": "ace7c828-20db-45ae-c120-b8a1960118f9"
      },
      "source": [
        "# Formula based Python3 program to find sum of all divisors of n. \n",
        "import math \n",
        "\n",
        "# Returns sum of all factors of n. \n",
        "def sumofoddFactors( n ): \n",
        "\t\n",
        "\t# Traversing through all \n",
        "\t# prime factors. \n",
        "\tres = 1\n",
        "\t\n",
        "\t# ignore even factors by \n",
        "\t# of 2 \n",
        "\twhile n % 2 == 0: \n",
        "\t\tn = n // 2\n",
        "\t\n",
        "\tfor i in range(3, int(math.sqrt(n) + 1)): \n",
        "\t\t\n",
        "\t\t# While i divides n, print \n",
        "\t\t# i and divide n \n",
        "\t\tcount = 0\n",
        "\t\tcurr_sum = 1\n",
        "\t\tcurr_term = 1\n",
        "\t\twhile n % i == 0: \n",
        "\t\t\tcount+=1\n",
        "\t\t\t\n",
        "\t\t\tn = n // i \n",
        "\t\t\tcurr_term *= i \n",
        "\t\t\tcurr_sum += curr_term \n",
        "\t\t\n",
        "\t\tres *= curr_sum \n",
        "\t\n",
        "\t# This condition is to \n",
        "\t# handle the case when \n",
        "\t# n is a prime number. \n",
        "\tif n >= 2: \n",
        "\t\tres *= (1 + n) \n",
        "\t\n",
        "\treturn res \n",
        "\n",
        "# Driver code \n",
        "n = 30\n",
        "print(sumofoddFactors(n))"
      ],
      "execution_count": 1,
      "outputs": [
        {
          "output_type": "stream",
          "text": [
            "24\n"
          ],
          "name": "stdout"
        }
      ]
    }
  ]
}