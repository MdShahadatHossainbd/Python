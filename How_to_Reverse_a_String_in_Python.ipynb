{
  "nbformat": 4,
  "nbformat_minor": 0,
  "metadata": {
    "colab": {
      "name": "How to Reverse a String in Python.ipynb",
      "provenance": [],
      "authorship_tag": "ABX9TyNNjfACQk9imXR19c3v26Zs",
      "include_colab_link": true
    },
    "kernelspec": {
      "name": "python3",
      "display_name": "Python 3"
    }
  },
  "cells": [
    {
      "cell_type": "markdown",
      "metadata": {
        "id": "view-in-github",
        "colab_type": "text"
      },
      "source": [
        "<a href=\"https://colab.research.google.com/github/MdShahadatHossainbd/python/blob/main/How_to_Reverse_a_String_in_Python.ipynb\" target=\"_parent\"><img src=\"https://colab.research.google.com/assets/colab-badge.svg\" alt=\"Open In Colab\"/></a>"
      ]
    },
    {
      "cell_type": "code",
      "metadata": {
        "colab": {
          "base_uri": "https://localhost:8080/"
        },
        "id": "LquKAvifAGCB",
        "outputId": "b2c70f3e-516c-4a11-f7de-7fd72680b181"
      },
      "source": [
        "txt = \"Hello World\"[::-1]\n",
        "print(txt) "
      ],
      "execution_count": 1,
      "outputs": [
        {
          "output_type": "stream",
          "text": [
            "dlroW olleH\n"
          ],
          "name": "stdout"
        }
      ]
    },
    {
      "cell_type": "code",
      "metadata": {
        "colab": {
          "base_uri": "https://localhost:8080/"
        },
        "id": "wwO0BojNDEr2",
        "outputId": "227a256a-09c6-43d5-c4f5-7f914d0902a6"
      },
      "source": [
        " txt = \"Hello World\"\n",
        "print(txt[::-1]) "
      ],
      "execution_count": 2,
      "outputs": [
        {
          "output_type": "stream",
          "text": [
            "dlroW olleH\n"
          ],
          "name": "stdout"
        }
      ]
    },
    {
      "cell_type": "code",
      "metadata": {
        "colab": {
          "base_uri": "https://localhost:8080/"
        },
        "id": "-3bPUKokDa4t",
        "outputId": "eb281389-e39b-40f7-8b31-27f3e8f31326"
      },
      "source": [
        "def my_function(x):\n",
        "  return x[::-1]\n",
        "\n",
        "mytxt = my_function(\"I wonder how this text looks like backwards\")\n",
        "\n",
        "print(mytxt) "
      ],
      "execution_count": 3,
      "outputs": [
        {
          "output_type": "stream",
          "text": [
            "sdrawkcab ekil skool txet siht woh rednow I\n"
          ],
          "name": "stdout"
        }
      ]
    },
    {
      "cell_type": "code",
      "metadata": {
        "colab": {
          "base_uri": "https://localhost:8080/"
        },
        "id": "Vh2Elsp_Dl_8",
        "outputId": "6fed6811-786a-49d1-d4dd-1d0340ef4153"
      },
      "source": [
        "def my_function(a):\n",
        "  return a[::-1]\n",
        "\n",
        "mytxt = my_function(\"I wonder how this text looks like backwards\")\n",
        "my = my_function(\"Md Shahadat\")\n",
        "print(mytxt,my) "
      ],
      "execution_count": 16,
      "outputs": [
        {
          "output_type": "stream",
          "text": [
            "sdrawkcab ekil skool txet siht woh rednow I tadahahS dM\n"
          ],
          "name": "stdout"
        }
      ]
    }
  ]
}