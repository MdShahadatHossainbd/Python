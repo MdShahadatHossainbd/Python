{
  "nbformat": 4,
  "nbformat_minor": 0,
  "metadata": {
    "colab": {
      "name": "Convert integer to string in Python.ipynb",
      "provenance": [],
      "authorship_tag": "ABX9TyNNDxBAlDBPBNGVwzTBEa5w",
      "include_colab_link": true
    },
    "kernelspec": {
      "name": "python3",
      "display_name": "Python 3"
    }
  },
  "cells": [
    {
      "cell_type": "markdown",
      "metadata": {
        "id": "view-in-github",
        "colab_type": "text"
      },
      "source": [
        "<a href=\"https://colab.research.google.com/github/MdShahadatHossainbd/Python/blob/main/Convert_integer_to_string_in_Python.ipynb\" target=\"_parent\"><img src=\"https://colab.research.google.com/assets/colab-badge.svg\" alt=\"Open In Colab\"/></a>"
      ]
    },
    {
      "cell_type": "code",
      "metadata": {
        "colab": {
          "base_uri": "https://localhost:8080/"
        },
        "id": "EHtLptRBYyv2",
        "outputId": "887afa85-dfe2-4e9e-a01d-c40c2f0b8ec8"
      },
      "source": [
        "num = 10\r\n",
        "\r\n",
        "# check and print type of num variable \r\n",
        "print(type(num)) \r\n",
        "\r\n",
        "# convert the num into string \r\n",
        "converted_num = str(num) \r\n",
        "\r\n",
        "# check and print type converted_num variable \r\n",
        "print(type(converted_num)) "
      ],
      "execution_count": 1,
      "outputs": [
        {
          "output_type": "stream",
          "text": [
            "<class 'int'>\n",
            "<class 'str'>\n"
          ],
          "name": "stdout"
        }
      ]
    },
    {
      "cell_type": "code",
      "metadata": {
        "colab": {
          "base_uri": "https://localhost:8080/",
          "height": 54
        },
        "id": "7TfespU_dEmW",
        "outputId": "9d9d3206-ee4f-4e60-ede5-bedbeacb8dc6"
      },
      "source": [
        "num = 10\r\n",
        "\r\n",
        "# check and print type of num variable \r\n",
        "print(type(num)) \r\n",
        "\r\n",
        "# convert the num into string and print \r\n",
        "\"% s\" % num "
      ],
      "execution_count": 2,
      "outputs": [
        {
          "output_type": "stream",
          "text": [
            "<class 'int'>\n"
          ],
          "name": "stdout"
        },
        {
          "output_type": "execute_result",
          "data": {
            "application/vnd.google.colaboratory.intrinsic+json": {
              "type": "string"
            },
            "text/plain": [
              "'10'"
            ]
          },
          "metadata": {
            "tags": []
          },
          "execution_count": 2
        }
      ]
    },
    {
      "cell_type": "code",
      "metadata": {
        "colab": {
          "base_uri": "https://localhost:8080/",
          "height": 54
        },
        "id": "IbhErdYTdNee",
        "outputId": "9ce852a9-e83a-4ea6-f1be-6e5d2da342aa"
      },
      "source": [
        "num = 10\r\n",
        "\r\n",
        "# check and print type of num variable \r\n",
        "print(type(num)) \r\n",
        "\r\n",
        "# convert the num into string and print \r\n",
        "\"{}\".format(num) "
      ],
      "execution_count": 3,
      "outputs": [
        {
          "output_type": "stream",
          "text": [
            "<class 'int'>\n"
          ],
          "name": "stdout"
        },
        {
          "output_type": "execute_result",
          "data": {
            "application/vnd.google.colaboratory.intrinsic+json": {
              "type": "string"
            },
            "text/plain": [
              "'10'"
            ]
          },
          "metadata": {
            "tags": []
          },
          "execution_count": 3
        }
      ]
    },
    {
      "cell_type": "code",
      "metadata": {
        "colab": {
          "base_uri": "https://localhost:8080/"
        },
        "id": "YzL7jJSFdRW4",
        "outputId": "dd0ac885-b250-45d3-f1a7-4e8c8596a9d8"
      },
      "source": [
        "num = 10\r\n",
        "\r\n",
        "# check and print type of num variable \r\n",
        "print(type(num)) \r\n",
        "\r\n",
        "# convert the num into string \r\n",
        "converted_num = f'{num}'\r\n",
        "\r\n",
        "# print type of converted_num \r\n",
        "print(type(converted_num)) "
      ],
      "execution_count": 4,
      "outputs": [
        {
          "output_type": "stream",
          "text": [
            "<class 'int'>\n",
            "<class 'str'>\n"
          ],
          "name": "stdout"
        }
      ]
    }
  ]
}