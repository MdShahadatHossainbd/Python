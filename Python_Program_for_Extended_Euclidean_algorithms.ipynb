{
  "nbformat": 4,
  "nbformat_minor": 0,
  "metadata": {
    "colab": {
      "name": "Python Program for Extended Euclidean algorithms.ipynb",
      "provenance": [],
      "authorship_tag": "ABX9TyMkdRjvjC1Vs7TVjM/fNOju",
      "include_colab_link": true
    },
    "kernelspec": {
      "name": "python3",
      "display_name": "Python 3"
    }
  },
  "cells": [
    {
      "cell_type": "markdown",
      "metadata": {
        "id": "view-in-github",
        "colab_type": "text"
      },
      "source": [
        "<a href=\"https://colab.research.google.com/github/MdShahadatHossainbd/Python/blob/main/Python_Program_for_Extended_Euclidean_algorithms.ipynb\" target=\"_parent\"><img src=\"https://colab.research.google.com/assets/colab-badge.svg\" alt=\"Open In Colab\"/></a>"
      ]
    },
    {
      "cell_type": "code",
      "metadata": {
        "colab": {
          "base_uri": "https://localhost:8080/"
        },
        "id": "5yqGViF0HfYT",
        "outputId": "4f4cc6e8-17a6-401f-b1fd-cf8adf1ff96f"
      },
      "source": [
        "# Python program to demonstrate working of extended \n",
        "# Euclidean Algorithm \n",
        "\t\n",
        "# function for extended Euclidean Algorithm \n",
        "def gcdExtended(a, b): \n",
        "\t# Base Case \n",
        "\tif a == 0 : \n",
        "\t\treturn b,0,1\n",
        "\t\t\t\n",
        "\tgcd,x1,y1 = gcdExtended(b%a, a) \n",
        "\t\n",
        "\t# Update x and y using results of recursive \n",
        "\t# call \n",
        "\tx = y1 - (b//a) * x1 \n",
        "\ty = x1 \n",
        "\t\n",
        "\treturn gcd,x,y \n",
        "\t\n",
        "\n",
        "# Driver code \n",
        "a, b = 35,15\n",
        "g, x, y = gcdExtended(a, b) \n",
        "print(\"gcd(\", a , \",\" , b, \") = \", g) "
      ],
      "execution_count": 1,
      "outputs": [
        {
          "output_type": "stream",
          "text": [
            "gcd( 35 , 15 ) =  5\n"
          ],
          "name": "stdout"
        }
      ]
    }
  ]
}