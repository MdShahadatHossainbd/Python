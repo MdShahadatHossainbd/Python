{
  "nbformat": 4,
  "nbformat_minor": 0,
  "metadata": {
    "colab": {
      "name": "Check if Binary representation is Palindrome in Python.ipynb",
      "provenance": [],
      "authorship_tag": "ABX9TyOHY5CuvMwU8NckdCPJW1r2",
      "include_colab_link": true
    },
    "kernelspec": {
      "name": "python3",
      "display_name": "Python 3"
    }
  },
  "cells": [
    {
      "cell_type": "markdown",
      "metadata": {
        "id": "view-in-github",
        "colab_type": "text"
      },
      "source": [
        "<a href=\"https://colab.research.google.com/github/MdShahadatHossainbd/Python/blob/main/Check_if_Binary_representation_is_Palindrome_in_Python.ipynb\" target=\"_parent\"><img src=\"https://colab.research.google.com/assets/colab-badge.svg\" alt=\"Open In Colab\"/></a>"
      ]
    },
    {
      "cell_type": "code",
      "metadata": {
        "colab": {
          "base_uri": "https://localhost:8080/"
        },
        "id": "qzNlSg7PlZYI",
        "outputId": "7a144afd-001f-4c69-c684-e6249285f7fd"
      },
      "source": [
        "# Function to check if binary representation of  a number is pallindrome or not \n",
        "\n",
        "def binaryPallindrome(num): \n",
        "\n",
        "\t# convert number into binary \n",
        "\tbinary = bin(num) \n",
        "\n",
        "\t# skip first two characters of string because bin function appends '0b' as  prefix in binary representation of  a number \n",
        "\tbinary = binary[2:] \n",
        "\n",
        "\t# now reverse binary string and compare it with original \n",
        "\treturn binary == binary[-1::-1] \n",
        "\n",
        "# Driver program \n",
        "if __name__ == \"__main__\": \n",
        "\tnum = 9\n",
        "\tprint(binaryPallindrome(num))"
      ],
      "execution_count": 2,
      "outputs": [
        {
          "output_type": "stream",
          "text": [
            "True\n"
          ],
          "name": "stdout"
        }
      ]
    }
  ]
}