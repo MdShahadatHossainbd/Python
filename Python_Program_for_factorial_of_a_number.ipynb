{
  "nbformat": 4,
  "nbformat_minor": 0,
  "metadata": {
    "colab": {
      "name": "Python Program for factorial of a number.ipynb",
      "provenance": [],
      "authorship_tag": "ABX9TyNnW9a2Nb/8becZr0y9Dxxz",
      "include_colab_link": true
    },
    "kernelspec": {
      "name": "python3",
      "display_name": "Python 3"
    }
  },
  "cells": [
    {
      "cell_type": "markdown",
      "metadata": {
        "id": "view-in-github",
        "colab_type": "text"
      },
      "source": [
        "<a href=\"https://colab.research.google.com/github/MdShahadatHossainbd/Python/blob/main/Python_Program_for_factorial_of_a_number.ipynb\" target=\"_parent\"><img src=\"https://colab.research.google.com/assets/colab-badge.svg\" alt=\"Open In Colab\"/></a>"
      ]
    },
    {
      "cell_type": "code",
      "metadata": {
        "colab": {
          "base_uri": "https://localhost:8080/"
        },
        "id": "44ivcbbq4Z04",
        "outputId": "bc39cdbd-f872-412b-ea7a-051de3f6f0d8"
      },
      "source": [
        "# Python 3 program to find factorial of given number \n",
        "def factorial(n): \n",
        "\t\n",
        "\t# single line to find factorial \n",
        "\treturn 1 if (n==1 or n==0) else n * factorial(n - 1); \n",
        "\n",
        "# Driver Code \n",
        "num = 5; \n",
        "print(\"Factorial of\",num,\"is\", \n",
        "factorial(num)) "
      ],
      "execution_count": 1,
      "outputs": [
        {
          "output_type": "stream",
          "text": [
            "Factorial of 5 is 120\n"
          ],
          "name": "stdout"
        }
      ]
    },
    {
      "cell_type": "code",
      "metadata": {
        "colab": {
          "base_uri": "https://localhost:8080/"
        },
        "id": "ZSI4qd-F4jQC",
        "outputId": "94fb1b18-59ca-4c56-fc37-68667fb5f7e8"
      },
      "source": [
        "# Python 3 program to find factorial of given number \n",
        "def factorial(n): \n",
        "\tif n < 0: \n",
        "\t\treturn 0\n",
        "\telif n == 0 or n == 1: \n",
        "\t\treturn 1\n",
        "\telse: \n",
        "\t\tfact = 1\n",
        "\t\twhile(n > 1): \n",
        "\t\t\tfact *= n \n",
        "\t\t\tn -= 1\n",
        "\t\treturn fact \n",
        "\n",
        "# Driver Code \n",
        "num = 5; \n",
        "print(\"Factorial of\",num,\"is\", \n",
        "factorial(num)) "
      ],
      "execution_count": 2,
      "outputs": [
        {
          "output_type": "stream",
          "text": [
            "Factorial of 5 is 120\n"
          ],
          "name": "stdout"
        }
      ]
    },
    {
      "cell_type": "code",
      "metadata": {
        "colab": {
          "base_uri": "https://localhost:8080/"
        },
        "id": "PmFOYwv34uQK",
        "outputId": "af76d40f-cb8a-4c6c-c501-36f45118ea51"
      },
      "source": [
        "# Python 3 program to find factorial of given number \n",
        "\n",
        "def factorial(n): \n",
        "\n",
        "\t# single line to find factorial \n",
        "\treturn 1 if (n==1 or n==0) else n * factorial(n - 1) \n",
        "\n",
        "\n",
        "# Driver Code \n",
        "num = 5\n",
        "print (\"Factorial of\",num,\"is\", \n",
        "\tfactorial(num)) "
      ],
      "execution_count": 3,
      "outputs": [
        {
          "output_type": "stream",
          "text": [
            "Factorial of 5 is 120\n"
          ],
          "name": "stdout"
        }
      ]
    }
  ]
}