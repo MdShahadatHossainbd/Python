{
  "nbformat": 4,
  "nbformat_minor": 0,
  "metadata": {
    "colab": {
      "name": "Python Program for Number of solutions to Modular Equations.ipynb",
      "provenance": [],
      "authorship_tag": "ABX9TyN4zbIUDkA7rJlYU3U/AEBy",
      "include_colab_link": true
    },
    "kernelspec": {
      "name": "python3",
      "display_name": "Python 3"
    }
  },
  "cells": [
    {
      "cell_type": "markdown",
      "metadata": {
        "id": "view-in-github",
        "colab_type": "text"
      },
      "source": [
        "<a href=\"https://colab.research.google.com/github/MdShahadatHossainbd/Python/blob/main/Python_Program_for_Number_of_solutions_to_Modular_Equations.ipynb\" target=\"_parent\"><img src=\"https://colab.research.google.com/assets/colab-badge.svg\" alt=\"Open In Colab\"/></a>"
      ]
    },
    {
      "cell_type": "code",
      "metadata": {
        "colab": {
          "base_uri": "https://localhost:8080/"
        },
        "id": "8bSKb_0Vr6wQ",
        "outputId": "2ccd3399-8e00-43f9-fccb-83f34bf26d37"
      },
      "source": [
        "# Python Program to find number of possible \n",
        "# values of X to satisfy A mod X = B \n",
        "import math \n",
        "\n",
        "# Returns the number of divisors of (A - B) \n",
        "# greater than B \n",
        "def calculateDivisors (A, B): \n",
        "\tN = A - B \n",
        "\tnoOfDivisors = 0\n",
        "\t\n",
        "\ta = math.sqrt(N) \n",
        "\tfor i in range(1, int(a + 1)): \n",
        "\t\t# if N is divisible by i \n",
        "\t\tif ((N % i == 0)): \n",
        "\t\t\t# count only the divisors greater than B \n",
        "\t\t\tif (i > B): \n",
        "\t\t\t\tnoOfDivisors +=1\n",
        "\t\t\t\t\n",
        "\t\t\t# checking if a divisor isnt counted twice \n",
        "\t\t\tif ((N / i) != i and (N / i) > B): \n",
        "\t\t\t\tnoOfDivisors += 1; \n",
        "\t\t\t\t\n",
        "\treturn noOfDivisors \n",
        "\t\n",
        "# Utility function to calculate number of all \n",
        "# possible values of X for which the modular \n",
        "# equation holds true \n",
        "\t\n",
        "def numberOfPossibleWaysUtil (A, B): \n",
        "\t# if A = B there are infinitely many solutions \n",
        "\t# to equation or we say X can take infinitely \n",
        "\t# many values > A. We return -1 in this case \n",
        "\tif (A == B): \n",
        "\t\treturn -1\n",
        "\t\t\n",
        "\t# if A < B, there are no possible values of \n",
        "\t# X satisfying the equation \n",
        "\tif (A < B): \n",
        "\t\treturn 0\n",
        "\t\t\n",
        "\t# the last case is when A > B, here we calculate \n",
        "\t# the number of divisors of (A - B), which are \n",
        "\t# greater than B\t \n",
        "\t\n",
        "\tnoOfDivisors = 0\n",
        "\tnoOfDivisors = calculateDivisors; \n",
        "\treturn noOfDivisors \n",
        "\t\t\n",
        "\t\n",
        "# Wrapper function for numberOfPossibleWaysUtil() \n",
        "def numberOfPossibleWays(A, B): \n",
        "\tnoOfSolutions = numberOfPossibleWaysUtil(A, B) \n",
        "\t\n",
        "\t#if infinitely many solutions available \n",
        "\tif (noOfSolutions == -1): \n",
        "\t\tprint (\"For A = \" , A , \" and B = \" , B \n",
        "\t\t\t\t, \", X can take Infinitely many values\"\n",
        "\t\t\t\t, \" greater than \" , A) \n",
        "\t\n",
        "\telse: \n",
        "\t\tprint (\"For A = \" , A , \" and B = \" , B \n",
        "\t\t\t\t, \", X can take \" , noOfSolutions \n",
        "\t\t\t\t, \" values\") \n",
        "# main() \n",
        "A = 26\n",
        "B = 2\n",
        "numberOfPossibleWays(A, B) \n",
        "\n",
        "\n",
        "A = 21\n",
        "B = 5\n",
        "numberOfPossibleWays(A, B)"
      ],
      "execution_count": 1,
      "outputs": [
        {
          "output_type": "stream",
          "text": [
            "For A =  26  and B =  2 , X can take  <function calculateDivisors at 0x7fd8f246ae18>  values\n",
            "For A =  21  and B =  5 , X can take  <function calculateDivisors at 0x7fd8f246ae18>  values\n"
          ],
          "name": "stdout"
        }
      ]
    }
  ]
}