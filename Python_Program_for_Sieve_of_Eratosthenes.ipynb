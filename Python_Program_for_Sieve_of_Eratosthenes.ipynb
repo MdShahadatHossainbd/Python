{
  "nbformat": 4,
  "nbformat_minor": 0,
  "metadata": {
    "colab": {
      "name": "Python Program for Sieve of Eratosthenes.ipynb",
      "provenance": [],
      "authorship_tag": "ABX9TyOvmjf118vSlbz0vVJ9V8Z0",
      "include_colab_link": true
    },
    "kernelspec": {
      "name": "python3",
      "display_name": "Python 3"
    }
  },
  "cells": [
    {
      "cell_type": "markdown",
      "metadata": {
        "id": "view-in-github",
        "colab_type": "text"
      },
      "source": [
        "<a href=\"https://colab.research.google.com/github/MdShahadatHossainbd/Python/blob/main/Python_Program_for_Sieve_of_Eratosthenes.ipynb\" target=\"_parent\"><img src=\"https://colab.research.google.com/assets/colab-badge.svg\" alt=\"Open In Colab\"/></a>"
      ]
    },
    {
      "cell_type": "code",
      "metadata": {
        "colab": {
          "base_uri": "https://localhost:8080/"
        },
        "id": "u2WYhIcSOW0h",
        "outputId": "97712b46-e25e-41ea-a618-7a5cfcba9405"
      },
      "source": [
        "# Python program to print all primes smaller than or equal to \n",
        "# n using Sieve of Eratosthenes \n",
        "\n",
        "def SieveOfEratosthenes(n): \n",
        "\t\n",
        "\t# Create a boolean array \"prime[0..n]\" and initialize \n",
        "\t# all entries it as true. A value in prime[i] will \n",
        "\t# finally be false if i is Not a prime, else true. \n",
        "\tprime = [True for i in range(n + 1)] \n",
        "\tp = 2\n",
        "\twhile (p * p <= n): \n",
        "\t\t\n",
        "\t\t# If prime[p] is not changed, then it is a prime \n",
        "\t\tif (prime[p] == True): \n",
        "\t\t\t\n",
        "\t\t\t# Update all multiples of p \n",
        "\t\t\tfor i in range(p * 2, n + 1, p): \n",
        "\t\t\t\tprime[i] = False\n",
        "\t\tp += 1\n",
        "\tprime[0]= False\n",
        "\tprime[1]= False\n",
        "\t# Print all prime numbers \n",
        "\tfor p in range(n + 1): \n",
        "\t\tif prime[p]: \n",
        "\t\t\tprint(p) #Use print(p) for python 3 \n",
        "\n",
        "# driver program \n",
        "if __name__=='__main__': \n",
        "\tn = 30\n",
        "\tprint(\"Following are the prime numbers smaller\")\n",
        "\t#Use print(\"Following are the prime numbers smaller\") for Python 3 \n",
        "\tprint(\"than or equal to\", n )\n",
        "\t#Use print(\"than or equal to\", n) for Python 3 \n",
        "\tSieveOfEratosthenes(n) "
      ],
      "execution_count": 3,
      "outputs": [
        {
          "output_type": "stream",
          "text": [
            "Following are the prime numbers smaller\n",
            "than or equal to 30\n",
            "2\n",
            "3\n",
            "5\n",
            "7\n",
            "11\n",
            "13\n",
            "17\n",
            "19\n",
            "23\n",
            "29\n"
          ],
          "name": "stdout"
        }
      ]
    }
  ]
}