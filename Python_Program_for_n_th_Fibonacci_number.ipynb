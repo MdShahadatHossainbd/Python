{
  "nbformat": 4,
  "nbformat_minor": 0,
  "metadata": {
    "colab": {
      "name": "Python Program for n-th Fibonacci number.ipynb",
      "provenance": [],
      "collapsed_sections": [],
      "authorship_tag": "ABX9TyPvbOiiETNYHkhAZ4P6wIpX",
      "include_colab_link": true
    },
    "kernelspec": {
      "name": "python3",
      "display_name": "Python 3"
    }
  },
  "cells": [
    {
      "cell_type": "markdown",
      "metadata": {
        "id": "view-in-github",
        "colab_type": "text"
      },
      "source": [
        "<a href=\"https://colab.research.google.com/github/MdShahadatHossainbd/Python/blob/main/Python_Program_for_n_th_Fibonacci_number.ipynb\" target=\"_parent\"><img src=\"https://colab.research.google.com/assets/colab-badge.svg\" alt=\"Open In Colab\"/></a>"
      ]
    },
    {
      "cell_type": "code",
      "metadata": {
        "colab": {
          "base_uri": "https://localhost:8080/"
        },
        "id": "5k7lkMNQIns5",
        "outputId": "170a6126-0062-4e8b-bd12-bd30b7a8ae76"
      },
      "source": [
        "# Function for nth Fibonacci number \n",
        "\n",
        "def Fibonacci(n): \n",
        "\tif n<0: \n",
        "\t\tprint(\"Incorrect input\") \n",
        "\t# First Fibonacci number is 0 \n",
        "\telif n==1: \n",
        "\t\treturn 0\n",
        "\t# Second Fibonacci number is 1 \n",
        "\telif n==2: \n",
        "\t\treturn 1\n",
        "\telse: \n",
        "\t\treturn Fibonacci(n-1)+Fibonacci(n-2) \n",
        "\n",
        "# Driver Program \n",
        "\n",
        "print(Fibonacci(9))"
      ],
      "execution_count": 1,
      "outputs": [
        {
          "output_type": "stream",
          "text": [
            "21\n"
          ],
          "name": "stdout"
        }
      ]
    },
    {
      "cell_type": "code",
      "metadata": {
        "colab": {
          "base_uri": "https://localhost:8080/"
        },
        "id": "thItky7dJAou",
        "outputId": "43d0247d-30bd-46e8-b2d7-5a4321560f34"
      },
      "source": [
        "# Function for nth fibonacci number - Dynamic Programing \n",
        "# Taking 1st two fibonacci nubers as 0 and 1 \n",
        "\n",
        "FibArray = [0,1] \n",
        "\n",
        "def fibonacci(n): \n",
        "\tif n<0: \n",
        "\t\tprint(\"Incorrect input\") \n",
        "\telif n<=len(FibArray): \n",
        "\t\treturn FibArray[n-1] \n",
        "\telse: \n",
        "\t\ttemp_fib = fibonacci(n-1)+fibonacci(n-2) \n",
        "\t\tFibArray.append(temp_fib) \n",
        "\t\treturn temp_fib \n",
        "\n",
        "# Driver Program \n",
        "\n",
        "print(fibonacci(9)) "
      ],
      "execution_count": 2,
      "outputs": [
        {
          "output_type": "stream",
          "text": [
            "21\n"
          ],
          "name": "stdout"
        }
      ]
    },
    {
      "cell_type": "code",
      "metadata": {
        "colab": {
          "base_uri": "https://localhost:8080/"
        },
        "id": "rhJ9wWgbJmPj",
        "outputId": "74bf0e79-ea07-427a-d63b-bdf303d5147a"
      },
      "source": [
        "# Function for nth fibonacci number - Space Optimisataion \n",
        "# Taking 1st two fibonacci numbers as 0 and 1 \n",
        "\n",
        "def fibonacci(n): \n",
        "\ta = 0\n",
        "\tb = 1\n",
        "\tif n < 0: \n",
        "\t\tprint(\"Incorrect input\") \n",
        "\telif n == 0: \n",
        "\t\treturn a \n",
        "\telif n == 1: \n",
        "\t\treturn b \n",
        "\telse: \n",
        "\t\tfor i in range(2,n): \n",
        "\t\t\tc = a + b \n",
        "\t\t\ta = b \n",
        "\t\t\tb = c \n",
        "\t\treturn b \n",
        "\n",
        "# Driver Program \n",
        "\n",
        "print(fibonacci(9)) "
      ],
      "execution_count": 8,
      "outputs": [
        {
          "output_type": "stream",
          "text": [
            "21\n"
          ],
          "name": "stdout"
        }
      ]
    },
    {
      "cell_type": "code",
      "metadata": {
        "colab": {
          "base_uri": "https://localhost:8080/"
        },
        "id": "q5R1RDXUJCsf",
        "outputId": "1dac0833-7e3a-416e-a2d5-42428bb789f8"
      },
      "source": [
        "#creating an array in the function to find the nth number in fibonacci series. [0,1,1,...] \n",
        "\n",
        "def fibonacci (n): \n",
        "\n",
        "  arr = [0] * (n+1) \n",
        "\n",
        "  arr[1] = 1\n",
        "\n",
        "  for i in range (2,n+1): \n",
        "\n",
        "\t  arr[i] = arr[i-1] + arr[i-2] \n",
        "\n",
        "  return arr[n] \n",
        "\n",
        "#Driver Program \n",
        "\n",
        "if __name__ == \"__main__\": \n",
        "\n",
        "  print(fibonacci (int (input (\"Enter the term :\" ) ) ) ) #lets assume the input as 12 \n",
        "\n"
      ],
      "execution_count": 7,
      "outputs": [
        {
          "output_type": "stream",
          "text": [
            "Enter the term :45\n",
            "1134903170\n"
          ],
          "name": "stdout"
        }
      ]
    }
  ]
}