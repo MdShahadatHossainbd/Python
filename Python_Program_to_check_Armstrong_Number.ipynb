{
  "nbformat": 4,
  "nbformat_minor": 0,
  "metadata": {
    "colab": {
      "name": "Python Program to check Armstrong Number.ipynb",
      "provenance": [],
      "collapsed_sections": [],
      "authorship_tag": "ABX9TyPTYGiek3q6uCMwzjy+MzE7",
      "include_colab_link": true
    },
    "kernelspec": {
      "name": "python3",
      "display_name": "Python 3"
    }
  },
  "cells": [
    {
      "cell_type": "markdown",
      "metadata": {
        "id": "view-in-github",
        "colab_type": "text"
      },
      "source": [
        "<a href=\"https://colab.research.google.com/github/MdShahadatHossainbd/Python/blob/main/Python_Program_to_check_Armstrong_Number.ipynb\" target=\"_parent\"><img src=\"https://colab.research.google.com/assets/colab-badge.svg\" alt=\"Open In Colab\"/></a>"
      ]
    },
    {
      "cell_type": "code",
      "metadata": {
        "colab": {
          "base_uri": "https://localhost:8080/"
        },
        "id": "SS1aSz-r5uZh",
        "outputId": "8e4cbd51-9045-4097-98df-7320d925a264"
      },
      "source": [
        "# Python program to determine whether the number is Armstrong number or not \n",
        "# Function to calculate x raised to the power y \n",
        "def power(x, y): \n",
        "\t\n",
        "\tif y == 0: \n",
        "\t\treturn 1\n",
        "\tif y % 2 == 0: \n",
        "\t\treturn power(x, y // 2) * power(x, y // 2) \n",
        "\t\t\n",
        "\treturn x * power(x, y // 2) * power(x, y // 2) \n",
        "\n",
        "# Function to calculate order of the number \n",
        "def order(x): \n",
        "\n",
        "\t# Variable to store of the number \n",
        "\tn = 0\n",
        "\twhile (x != 0): \n",
        "\t\tn = n + 1\n",
        "\t\tx = x // 10\n",
        "\t\t\n",
        "\treturn n \n",
        "\n",
        "# Function to check whether the given number is Armstrong number or not \n",
        "def isArmstrong(x): \n",
        "\t\n",
        "\tn = order(x) \n",
        "\ttemp = x \n",
        "\tsum1 = 0\n",
        "\t\n",
        "\twhile (temp != 0): \n",
        "\t\tr = temp % 10\n",
        "\t\tsum1 = sum1 + power(r, n) \n",
        "\t\ttemp = temp // 10\n",
        "\n",
        "\t# If condition satisfies \n",
        "\treturn (sum1 == x) \n",
        "\n",
        "# Driver code \n",
        "x = 153\n",
        "print(isArmstrong(x)) \n",
        "\n",
        "x = 1253\n",
        "print(isArmstrong(x)) "
      ],
      "execution_count": 1,
      "outputs": [
        {
          "output_type": "stream",
          "text": [
            "True\n",
            "False\n"
          ],
          "name": "stdout"
        }
      ]
    }
  ]
}