{
  "nbformat": 4,
  "nbformat_minor": 0,
  "metadata": {
    "colab": {
      "name": "Python Program for Tower of Hanoi.ipynb",
      "provenance": [],
      "authorship_tag": "ABX9TyMytH+sOtXv+E6aVUhMNN81",
      "include_colab_link": true
    },
    "kernelspec": {
      "name": "python3",
      "display_name": "Python 3"
    }
  },
  "cells": [
    {
      "cell_type": "markdown",
      "metadata": {
        "id": "view-in-github",
        "colab_type": "text"
      },
      "source": [
        "<a href=\"https://colab.research.google.com/github/MdShahadatHossainbd/Python/blob/main/Python_Program_for_Tower_of_Hanoi.ipynb\" target=\"_parent\"><img src=\"https://colab.research.google.com/assets/colab-badge.svg\" alt=\"Open In Colab\"/></a>"
      ]
    },
    {
      "cell_type": "code",
      "metadata": {
        "colab": {
          "base_uri": "https://localhost:8080/"
        },
        "id": "BkzwhjWDN-KR",
        "outputId": "cd3497bb-7e4b-41c0-d615-ddb149871af1"
      },
      "source": [
        "# Recursive Python function to solve the tower of hanoi \n",
        "\n",
        "def TowerOfHanoi(n , source, destination, auxiliary): \n",
        "\tif n==1: \n",
        "\t\tprint(\"Move disk 1 from source\",source,\"to destination\",destination) \n",
        "\t\treturn\n",
        "\tTowerOfHanoi(n-1, source, auxiliary, destination) \n",
        "\tprint(\"Move disk\",n,\"from source\",source,\"to destination\",destination)\n",
        "\tTowerOfHanoi(n-1, auxiliary, destination, source) \n",
        "\t\t\n",
        "# Driver code \n",
        "n = 4\n",
        "TowerOfHanoi(n,'A','B','C') "
      ],
      "execution_count": 2,
      "outputs": [
        {
          "output_type": "stream",
          "text": [
            "Move disk 1 from source A to destination C\n",
            "Move disk 2 from source A to destination B\n",
            "Move disk 1 from source C to destination B\n",
            "Move disk 3 from source A to destination C\n",
            "Move disk 1 from source B to destination A\n",
            "Move disk 2 from source B to destination C\n",
            "Move disk 1 from source A to destination C\n",
            "Move disk 4 from source A to destination B\n",
            "Move disk 1 from source C to destination B\n",
            "Move disk 2 from source C to destination A\n",
            "Move disk 1 from source B to destination A\n",
            "Move disk 3 from source C to destination B\n",
            "Move disk 1 from source A to destination C\n",
            "Move disk 2 from source A to destination B\n",
            "Move disk 1 from source C to destination B\n"
          ],
          "name": "stdout"
        }
      ]
    }
  ]
}