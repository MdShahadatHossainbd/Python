{
  "nbformat": 4,
  "nbformat_minor": 0,
  "metadata": {
    "colab": {
      "name": "Python program to add two numbers000.ipynb",
      "provenance": [],
      "authorship_tag": "ABX9TyPvpOZXhuuGD1k+6NCiLUQY",
      "include_colab_link": true
    },
    "kernelspec": {
      "name": "python3",
      "display_name": "Python 3"
    }
  },
  "cells": [
    {
      "cell_type": "markdown",
      "metadata": {
        "id": "view-in-github",
        "colab_type": "text"
      },
      "source": [
        "<a href=\"https://colab.research.google.com/github/MdShahadatHossainbd/Python/blob/main/Python_program_to_add_two_numbers000.ipynb\" target=\"_parent\"><img src=\"https://colab.research.google.com/assets/colab-badge.svg\" alt=\"Open In Colab\"/></a>"
      ]
    },
    {
      "cell_type": "code",
      "metadata": {
        "colab": {
          "base_uri": "https://localhost:8080/"
        },
        "id": "jFmDeFzj7ymR",
        "outputId": "32057d0e-7794-4661-8f11-1837d391f610"
      },
      "source": [
        "# Python3 program to add two numbers \n",
        "\n",
        "num1 = 15\n",
        "num2 = 12\n",
        "\n",
        "# Adding two nos \n",
        "sum = num1 + num2 \n",
        "\n",
        "# printing values \n",
        "print(\"Sum of {0} and {1} is {2}\" .format(num1, num2, sum)) "
      ],
      "execution_count": 1,
      "outputs": [
        {
          "output_type": "stream",
          "text": [
            "Sum of 15 and 12 is 27\n"
          ],
          "name": "stdout"
        }
      ]
    },
    {
      "cell_type": "code",
      "metadata": {
        "colab": {
          "base_uri": "https://localhost:8080/"
        },
        "id": "qq22K2dX84YG",
        "outputId": "7b0ec5c7-a87b-4de3-9f05-666253dead02"
      },
      "source": [
        "# Python3 program to add two numbers \n",
        "\n",
        "number1 = input(\"First number: \") \n",
        "number2 = input(\"\\nSecond number: \") \n",
        "\n",
        "# Adding two numbers \n",
        "# User might also enter float numbers \n",
        "sum = float(number1) + float(number2) \n",
        "\n",
        "# Display the sum \n",
        "# will print value in float \n",
        "print(\"The sum of {0} and {1} is {2}\" .format(number1, number2, sum)) "
      ],
      "execution_count": 2,
      "outputs": [
        {
          "output_type": "stream",
          "text": [
            "First number: 5\n",
            "\n",
            "Second number: 8\n",
            "The sum of 5 and 8 is 13.0\n"
          ],
          "name": "stdout"
        }
      ]
    }
  ]
}