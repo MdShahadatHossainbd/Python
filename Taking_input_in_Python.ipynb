{
  "nbformat": 4,
  "nbformat_minor": 0,
  "metadata": {
    "colab": {
      "name": "Taking input in Python.ipynb",
      "provenance": [],
      "authorship_tag": "ABX9TyOzlQhZtRmbRXDtVWR2kEh5",
      "include_colab_link": true
    },
    "kernelspec": {
      "name": "python3",
      "display_name": "Python 3"
    }
  },
  "cells": [
    {
      "cell_type": "markdown",
      "metadata": {
        "id": "view-in-github",
        "colab_type": "text"
      },
      "source": [
        "<a href=\"https://colab.research.google.com/github/MdShahadatHossainbd/Python/blob/main/Taking_input_in_Python.ipynb\" target=\"_parent\"><img src=\"https://colab.research.google.com/assets/colab-badge.svg\" alt=\"Open In Colab\"/></a>"
      ]
    },
    {
      "cell_type": "code",
      "metadata": {
        "colab": {
          "base_uri": "https://localhost:8080/"
        },
        "id": "oMWfD-1xBuwD",
        "outputId": "4a40a086-8f3a-428d-e60f-b96bf44231ce"
      },
      "source": [
        "# Python program showing \n",
        "# a use of input() \n",
        "\n",
        "val = input(\"Enter your value: \") \n",
        "print(val) "
      ],
      "execution_count": 1,
      "outputs": [
        {
          "output_type": "stream",
          "text": [
            "Enter your value: 6\n",
            "6\n"
          ],
          "name": "stdout"
        }
      ]
    },
    {
      "cell_type": "code",
      "metadata": {
        "colab": {
          "base_uri": "https://localhost:8080/"
        },
        "id": "m6qt-7ctCYl1",
        "outputId": "b46b94d8-59f5-4cf4-cbb1-0448153f81ad"
      },
      "source": [
        "# Program to check input \n",
        "# type in Python \n",
        "\n",
        "num = input (\"Enter number :\") \n",
        "print(num) \n",
        "name1 = input(\"Enter name : \") \n",
        "print(name1) \n",
        "\n",
        "# Printing type of input value \n",
        "print (\"type of number\", type(num)) \n",
        "print (\"type of name\", type(name1)) "
      ],
      "execution_count": 2,
      "outputs": [
        {
          "output_type": "stream",
          "text": [
            "Enter number :67\n",
            "67\n",
            "Enter name : 78\n",
            "78\n",
            "type of number <class 'str'>\n",
            "type of name <class 'str'>\n"
          ],
          "name": "stdout"
        }
      ]
    }
  ]
}