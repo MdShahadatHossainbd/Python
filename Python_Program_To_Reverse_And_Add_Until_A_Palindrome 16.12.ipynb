{
  "nbformat": 4,
  "nbformat_minor": 0,
  "metadata": {
    "colab": {
      "name": "16.12 Python Program To Reverse And Add Until A Palindrome.ipynb",
      "provenance": [],
      "authorship_tag": "ABX9TyPxDpPSRhhXkoe/ZfntaJ7P",
      "include_colab_link": true
    },
    "kernelspec": {
      "name": "python3",
      "display_name": "Python 3"
    }
  },
  "cells": [
    {
      "cell_type": "markdown",
      "metadata": {
        "id": "view-in-github",
        "colab_type": "text"
      },
      "source": [
        "<a href=\"https://colab.research.google.com/github/MdShahadatHossainbd/python/blob/main/Python_Program_To_Reverse_And_Add_Until_A_Palindrome%2016.12.ipynb\" target=\"_parent\"><img src=\"https://colab.research.google.com/assets/colab-badge.svg\" alt=\"Open In Colab\"/></a>"
      ]
    },
    {
      "cell_type": "code",
      "metadata": {
        "colab": {
          "base_uri": "https://localhost:8080/"
        },
        "id": "qvhDzXR_KMyT",
        "outputId": "c186c073-b00f-4409-d951-6282d42d9aa1"
      },
      "source": [
        "num = int(input(\"Enter The Number: \"))\n",
        "count = num\n",
        "while True:\n",
        "  str_num = str(num)\n",
        "  rev_str = str_num[::-1]\n",
        "  if str_num == rev_str:\n",
        "    print(num,'is palindrome, when entred number is: ',count)\n",
        "    break  \n",
        "  num = int(str_num) + int(rev_str) \n"
      ],
      "execution_count": 2,
      "outputs": [
        {
          "output_type": "stream",
          "text": [
            "Enter The Number: 453\n",
            "6666 is palindrome\n"
          ],
          "name": "stdout"
        }
      ]
    }
  ]
}