{
  "nbformat": 4,
  "nbformat_minor": 0,
  "metadata": {
    "colab": {
      "name": "Python program to print all Prime numbers in an Interval.ipynb",
      "provenance": [],
      "collapsed_sections": [],
      "authorship_tag": "ABX9TyPvOZNUwUIqrbKNkeI7h89m",
      "include_colab_link": true
    },
    "kernelspec": {
      "name": "python3",
      "display_name": "Python 3"
    }
  },
  "cells": [
    {
      "cell_type": "markdown",
      "metadata": {
        "id": "view-in-github",
        "colab_type": "text"
      },
      "source": [
        "<a href=\"https://colab.research.google.com/github/MdShahadatHossainbd/Python/blob/main/Python_program_to_print_all_Prime_numbers_in_an_Interval.ipynb\" target=\"_parent\"><img src=\"https://colab.research.google.com/assets/colab-badge.svg\" alt=\"Open In Colab\"/></a>"
      ]
    },
    {
      "cell_type": "code",
      "metadata": {
        "colab": {
          "base_uri": "https://localhost:8080/"
        },
        "id": "v354Ov75SoN6",
        "outputId": "9bd0cd3c-5051-4a8e-d641-42bca97f21c6"
      },
      "source": [
        "# Python program to print all  prime number in an interval  number should be greater than 1 \n",
        "start = 11\n",
        "end = 25\n",
        "\n",
        "for i in range(start, end+1):\n",
        "     \n",
        "    if i>1:\n",
        "         \n",
        "\t    for j in range(2,i):\n",
        "          \n",
        "\t\t    if(i % j==0):\n",
        "           \n",
        "\t\t    \tbreak\n",
        "\t    else: \n",
        "\t\t    print(i) \n"
      ],
      "execution_count": 18,
      "outputs": [
        {
          "output_type": "stream",
          "text": [
            "11\n",
            "13\n",
            "17\n",
            "19\n",
            "23\n"
          ],
          "name": "stdout"
        }
      ]
    }
  ]
}