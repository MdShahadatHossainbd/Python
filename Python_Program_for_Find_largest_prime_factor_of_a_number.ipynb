{
  "nbformat": 4,
  "nbformat_minor": 0,
  "metadata": {
    "colab": {
      "name": "Python Program for Find largest prime factor of a number.ipynb",
      "provenance": [],
      "authorship_tag": "ABX9TyNDX2YSJviQuIvRmfaUnYTj",
      "include_colab_link": true
    },
    "kernelspec": {
      "name": "python3",
      "display_name": "Python 3"
    }
  },
  "cells": [
    {
      "cell_type": "markdown",
      "metadata": {
        "id": "view-in-github",
        "colab_type": "text"
      },
      "source": [
        "<a href=\"https://colab.research.google.com/github/MdShahadatHossainbd/Python/blob/main/Python_Program_for_Find_largest_prime_factor_of_a_number.ipynb\" target=\"_parent\"><img src=\"https://colab.research.google.com/assets/colab-badge.svg\" alt=\"Open In Colab\"/></a>"
      ]
    },
    {
      "cell_type": "code",
      "metadata": {
        "colab": {
          "base_uri": "https://localhost:8080/"
        },
        "id": "CI18OaA2kSci",
        "outputId": "06f1a620-a31d-43aa-dbdb-0a7260695d75"
      },
      "source": [
        "# Python3 code to find largest prime \n",
        "# factor of number \n",
        "import math \n",
        "  \n",
        "# A function to find largest prime factor \n",
        "def maxPrimeFactors (n): \n",
        "      \n",
        "    # Initialize the maximum prime factor \n",
        "    # variable with the lowest one \n",
        "    maxPrime = -1\n",
        "      \n",
        "    # Print the number of 2s that divide n \n",
        "    while n % 2 == 0: \n",
        "        maxPrime = 2\n",
        "        n >>= 1     # equivalent to n /= 2 \n",
        "          \n",
        "    # n must be odd at this point,  \n",
        "    # thus skip the even numbers and  \n",
        "    # iterate only for odd integers \n",
        "    for i in range(3, int(math.sqrt(n)) + 1, 2): \n",
        "        while n % i == 0: \n",
        "            maxPrime = i \n",
        "            n = n / i \n",
        "      \n",
        "    # This condition is to handle the  \n",
        "    # case when n is a prime number  \n",
        "    # greater than 2 \n",
        "    if n > 2: \n",
        "        maxPrime = n \n",
        "      \n",
        "    return int(maxPrime) \n",
        "  \n",
        "# Driver code to test above function \n",
        "n = 15\n",
        "print(maxPrimeFactors(n)) \n",
        "  \n",
        "n = 25698751364526\n",
        "print(maxPrimeFactors(n)) "
      ],
      "execution_count": 1,
      "outputs": [
        {
          "output_type": "stream",
          "text": [
            "5\n",
            "328513\n"
          ],
          "name": "stdout"
        }
      ]
    }
  ]
}