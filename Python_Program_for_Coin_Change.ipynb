{
  "nbformat": 4,
  "nbformat_minor": 0,
  "metadata": {
    "colab": {
      "name": "Python Program for Coin Change.ipynb",
      "provenance": [],
      "authorship_tag": "ABX9TyOOhPqSar1tT1cZ604bk7Ok",
      "include_colab_link": true
    },
    "kernelspec": {
      "name": "python3",
      "display_name": "Python 3"
    }
  },
  "cells": [
    {
      "cell_type": "markdown",
      "metadata": {
        "id": "view-in-github",
        "colab_type": "text"
      },
      "source": [
        "<a href=\"https://colab.research.google.com/github/MdShahadatHossainbd/Python/blob/main/Python_Program_for_Coin_Change.ipynb\" target=\"_parent\"><img src=\"https://colab.research.google.com/assets/colab-badge.svg\" alt=\"Open In Colab\"/></a>"
      ]
    },
    {
      "cell_type": "code",
      "metadata": {
        "colab": {
          "base_uri": "https://localhost:8080/"
        },
        "id": "z9B6bQlZMsn7",
        "outputId": "abd1ef14-4681-4bb2-8d05-3b431f3987d9"
      },
      "source": [
        "# Dynamic Programming Python implementation of Coin  \n",
        "# Change problem \n",
        "def count(S, m, n): \n",
        "    # We need n+1 rows as the table is constructed  \n",
        "    # in bottom up manner using the base case 0 value \n",
        "    # case (n = 0) \n",
        "    table = [[0 for x in range(m)] for x in range(n+1)] \n",
        "  \n",
        "    # Fill the entries for 0 value case (n = 0) \n",
        "    for i in range(m): \n",
        "        table[0][i] = 1\n",
        "  \n",
        "    # Fill rest of the table entries in bottom up manner \n",
        "    for i in range(1, n+1): \n",
        "        for j in range(m): \n",
        "  \n",
        "            # Count of solutions including S[j] \n",
        "            x = table[i - S[j]][j] if i-S[j] >= 0 else 0\n",
        "  \n",
        "            # Count of solutions excluding S[j] \n",
        "            y = table[i][j-1] if j >= 1 else 0\n",
        "  \n",
        "            # total count \n",
        "            table[i][j] = x + y \n",
        "  \n",
        "    return table[n][m-1] \n",
        "  \n",
        "# Driver program to test above function \n",
        "arr = [1, 2, 3] \n",
        "m = len(arr) \n",
        "n = 4\n",
        "print(count(arr, m, n)) "
      ],
      "execution_count": 1,
      "outputs": [
        {
          "output_type": "stream",
          "text": [
            "4\n"
          ],
          "name": "stdout"
        }
      ]
    },
    {
      "cell_type": "code",
      "metadata": {
        "colab": {
          "base_uri": "https://localhost:8080/"
        },
        "id": "BigUV21DM137",
        "outputId": "9122d8f1-99ef-452f-a303-b1b624d3f934"
      },
      "source": [
        "# Dynamic Programming Python implementation of Coin  \n",
        "# Change problem \n",
        "def count(S, m, n): \n",
        "  \n",
        "    # table[i] will be storing the number of solutions for \n",
        "    # value i. We need n+1 rows as the table is constructed \n",
        "    # in bottom up manner using the base case (n = 0) \n",
        "    # Initialize all table values as 0 \n",
        "    table = [0 for k in range(n+1)] \n",
        "  \n",
        "    # Base case (If given value is 0) \n",
        "    table[0] = 1\n",
        "  \n",
        "    # Pick all coins one by one and update the table[] values \n",
        "    # after the index greater than or equal to the value of the \n",
        "    # picked coin \n",
        "    for i in range(0,m): \n",
        "        for j in range(S[i],n+1): \n",
        "            table[j] += table[j-S[i]] \n",
        "  \n",
        "    return table[n] \n",
        "  \n",
        "# Driver program to test above function \n",
        "arr = [1, 2, 3] \n",
        "m = len(arr) \n",
        "n = 4\n",
        "x = count(arr, m, n) \n",
        "print (x) "
      ],
      "execution_count": 2,
      "outputs": [
        {
          "output_type": "stream",
          "text": [
            "4\n"
          ],
          "name": "stdout"
        }
      ]
    }
  ]
}