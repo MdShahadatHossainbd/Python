{
  "nbformat": 4,
  "nbformat_minor": 0,
  "metadata": {
    "colab": {
      "name": "Python Program for Basic Euclidean algorithms.ipynb",
      "provenance": [],
      "authorship_tag": "ABX9TyMYgmtiKlfeub+GaW4TUeus",
      "include_colab_link": true
    },
    "kernelspec": {
      "name": "python3",
      "display_name": "Python 3"
    }
  },
  "cells": [
    {
      "cell_type": "markdown",
      "metadata": {
        "id": "view-in-github",
        "colab_type": "text"
      },
      "source": [
        "<a href=\"https://colab.research.google.com/github/MdShahadatHossainbd/Python/blob/main/Python_Program_for_Basic_Euclidean_algorithms.ipynb\" target=\"_parent\"><img src=\"https://colab.research.google.com/assets/colab-badge.svg\" alt=\"Open In Colab\"/></a>"
      ]
    },
    {
      "cell_type": "code",
      "metadata": {
        "colab": {
          "base_uri": "https://localhost:8080/"
        },
        "id": "wpew5Xb1V691",
        "outputId": "8473ca5d-3945-44b3-8dbc-d7859040b8cc"
      },
      "source": [
        "# Python program to demonstrate Basic Euclidean Algorithm \n",
        "# Function to return gcd of a and b \n",
        "def gcd(a, b): \n",
        "\tif a == 0 : \n",
        "\t\treturn b \n",
        "\t\n",
        "\treturn gcd(b%a, a) \n",
        "\n",
        "a = 10\n",
        "b = 15\n",
        "print(\"gcd(\", a , \",\" , b, \") = \", gcd(a, b)) \n",
        "\n",
        "a = 35\n",
        "b = 10\n",
        "print(\"gcd(\", a , \",\" , b, \") = \", gcd(a, b)) \n",
        "\n",
        "a = 31\n",
        "b = 2\n",
        "print(\"gcd(\", a , \",\" , b, \") = \", gcd(a, b)) "
      ],
      "execution_count": 1,
      "outputs": [
        {
          "output_type": "stream",
          "text": [
            "gcd( 10 , 15 ) =  5\n",
            "gcd( 35 , 10 ) =  5\n",
            "gcd( 31 , 2 ) =  1\n"
          ],
          "name": "stdout"
        }
      ]
    }
  ]
}