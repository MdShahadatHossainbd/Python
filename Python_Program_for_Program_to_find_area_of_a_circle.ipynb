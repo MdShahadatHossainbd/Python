{
  "nbformat": 4,
  "nbformat_minor": 0,
  "metadata": {
    "colab": {
      "name": "Python Program for Program to find area of a circle.ipynb",
      "provenance": [],
      "authorship_tag": "ABX9TyPgS/0KebfAXuzr4EeXObXJ",
      "include_colab_link": true
    },
    "kernelspec": {
      "name": "python3",
      "display_name": "Python 3"
    }
  },
  "cells": [
    {
      "cell_type": "markdown",
      "metadata": {
        "id": "view-in-github",
        "colab_type": "text"
      },
      "source": [
        "<a href=\"https://colab.research.google.com/github/MdShahadatHossainbd/Python/blob/main/Python_Program_for_Program_to_find_area_of_a_circle.ipynb\" target=\"_parent\"><img src=\"https://colab.research.google.com/assets/colab-badge.svg\" alt=\"Open In Colab\"/></a>"
      ]
    },
    {
      "cell_type": "code",
      "metadata": {
        "colab": {
          "base_uri": "https://localhost:8080/"
        },
        "id": "HzuxcTTYVvZk",
        "outputId": "16caf120-6a88-4309-d1a8-f54d0e1a47a5"
      },
      "source": [
        "# Python program to find Area of a circle \n",
        "\n",
        "def findArea(r): \n",
        "\tPI = 3.142\n",
        "\treturn PI * (r*r); \n",
        "\n",
        "# Driver method \n",
        "print(\"Area is %.6f\" % findArea(5)); "
      ],
      "execution_count": 1,
      "outputs": [
        {
          "output_type": "stream",
          "text": [
            "Area is 78.550000\n"
          ],
          "name": "stdout"
        }
      ]
    }
  ]
}