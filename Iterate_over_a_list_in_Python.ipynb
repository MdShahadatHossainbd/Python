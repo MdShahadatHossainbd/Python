{
  "nbformat": 4,
  "nbformat_minor": 0,
  "metadata": {
    "colab": {
      "name": "Iterate over a list in Python.ipynb",
      "provenance": [],
      "authorship_tag": "ABX9TyPJJSlloShHZ5h2LLmYaX/B",
      "include_colab_link": true
    },
    "kernelspec": {
      "name": "python3",
      "display_name": "Python 3"
    }
  },
  "cells": [
    {
      "cell_type": "markdown",
      "metadata": {
        "id": "view-in-github",
        "colab_type": "text"
      },
      "source": [
        "<a href=\"https://colab.research.google.com/github/MdShahadatHossainbd/Python/blob/main/Iterate_over_a_list_in_Python.ipynb\" target=\"_parent\"><img src=\"https://colab.research.google.com/assets/colab-badge.svg\" alt=\"Open In Colab\"/></a>"
      ]
    },
    {
      "cell_type": "code",
      "metadata": {
        "colab": {
          "base_uri": "https://localhost:8080/"
        },
        "id": "EeyRYiUBC0Zv",
        "outputId": "2c7ddfd7-f83d-4d12-87cb-a08f0340f252"
      },
      "source": [
        "# Python3 code to iterate over a list\n",
        "list = [1, 3, 5, 7, 9]\n",
        "\n",
        "# Using for loop\n",
        "for i in list:\n",
        "\tprint(i)"
      ],
      "execution_count": 1,
      "outputs": [
        {
          "output_type": "stream",
          "text": [
            "1\n",
            "3\n",
            "5\n",
            "7\n",
            "9\n"
          ],
          "name": "stdout"
        }
      ]
    },
    {
      "cell_type": "code",
      "metadata": {
        "colab": {
          "base_uri": "https://localhost:8080/"
        },
        "id": "-1NKvVxzC50-",
        "outputId": "728b28b2-bc93-4420-c9e8-476b55a41a54"
      },
      "source": [
        "# Python3 code to iterate over a list\n",
        "list = [1, 3, 5, 7, 9]\n",
        "\n",
        "# getting length of list\n",
        "length = len(list)\n",
        "\n",
        "# Iterating the index\n",
        "# same as 'for i in range(len(list))'\n",
        "for i in range(length):\n",
        "\tprint(list[i])"
      ],
      "execution_count": 2,
      "outputs": [
        {
          "output_type": "stream",
          "text": [
            "1\n",
            "3\n",
            "5\n",
            "7\n",
            "9\n"
          ],
          "name": "stdout"
        }
      ]
    },
    {
      "cell_type": "code",
      "metadata": {
        "colab": {
          "base_uri": "https://localhost:8080/"
        },
        "id": "kWoarGw5C9x4",
        "outputId": "503b197b-c529-4036-bad5-56851bfdc0f3"
      },
      "source": [
        "# Python3 code to iterate over a list\n",
        "list = [1, 3, 5, 7, 9]\n",
        "\n",
        "# Getting length of list\n",
        "length = len(list)\n",
        "i = 0\n",
        "\n",
        "# Iterating using while loop\n",
        "while i < length:\n",
        "\tprint(list[i])\n",
        "\ti += 1"
      ],
      "execution_count": 3,
      "outputs": [
        {
          "output_type": "stream",
          "text": [
            "1\n",
            "3\n",
            "5\n",
            "7\n",
            "9\n"
          ],
          "name": "stdout"
        }
      ]
    },
    {
      "cell_type": "code",
      "metadata": {
        "colab": {
          "base_uri": "https://localhost:8080/"
        },
        "id": "bAI5RrfqDHNS",
        "outputId": "62c85a1e-b02c-4cf1-f5f9-a1bd5a2588e7"
      },
      "source": [
        "# Python3 code to iterate over a list\n",
        "list = [1, 3, 5, 7, 9]\n",
        "\n",
        "# Using list comprehension\n",
        "[print(i) for i in list]"
      ],
      "execution_count": 4,
      "outputs": [
        {
          "output_type": "stream",
          "text": [
            "1\n",
            "3\n",
            "5\n",
            "7\n",
            "9\n"
          ],
          "name": "stdout"
        },
        {
          "output_type": "execute_result",
          "data": {
            "text/plain": [
              "[None, None, None, None, None]"
            ]
          },
          "metadata": {
            "tags": []
          },
          "execution_count": 4
        }
      ]
    },
    {
      "cell_type": "code",
      "metadata": {
        "colab": {
          "base_uri": "https://localhost:8080/"
        },
        "id": "C3gH6YR1DJRH",
        "outputId": "7c901464-9461-4f9f-c19d-8c271192d729"
      },
      "source": [
        "# Python3 code to iterate over a list\n",
        "list = [1, 3, 5, 7, 9]\n",
        "\n",
        "# Using enumerate() \n",
        "for i, val in enumerate(list):\n",
        "\tprint (i, \",\",val)"
      ],
      "execution_count": 5,
      "outputs": [
        {
          "output_type": "stream",
          "text": [
            "0 , 1\n",
            "1 , 3\n",
            "2 , 5\n",
            "3 , 7\n",
            "4 , 9\n"
          ],
          "name": "stdout"
        }
      ]
    },
    {
      "cell_type": "code",
      "metadata": {
        "colab": {
          "base_uri": "https://localhost:8080/"
        },
        "id": "_PGiyaY0DOZ6",
        "outputId": "92e49e84-59ce-4c89-d7bb-e9b71d4736f9"
      },
      "source": [
        "# Python program for\n",
        "# iterating over array\n",
        "import numpy as geek\n",
        "\n",
        "# creating an array using \n",
        "# arrange method\n",
        "a = geek.arange(9)\n",
        "\n",
        "# shape array with 3 rows \n",
        "# and 4 columns\n",
        "a = a.reshape(3, 3)\n",
        "\n",
        "# iterating an array\n",
        "for x in geek.nditer(a):\n",
        "\tprint(x)"
      ],
      "execution_count": 6,
      "outputs": [
        {
          "output_type": "stream",
          "text": [
            "0\n",
            "1\n",
            "2\n",
            "3\n",
            "4\n",
            "5\n",
            "6\n",
            "7\n",
            "8\n"
          ],
          "name": "stdout"
        }
      ]
    }
  ]
}