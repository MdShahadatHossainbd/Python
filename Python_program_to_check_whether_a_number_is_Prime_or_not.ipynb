{
  "nbformat": 4,
  "nbformat_minor": 0,
  "metadata": {
    "colab": {
      "name": "Python program to check whether a number is Prime or not.ipynb",
      "provenance": [],
      "authorship_tag": "ABX9TyM/uhMsp36/6zvwItoH3H4Z",
      "include_colab_link": true
    },
    "kernelspec": {
      "name": "python3",
      "display_name": "Python 3"
    }
  },
  "cells": [
    {
      "cell_type": "markdown",
      "metadata": {
        "id": "view-in-github",
        "colab_type": "text"
      },
      "source": [
        "<a href=\"https://colab.research.google.com/github/MdShahadatHossainbd/Python/blob/main/Python_program_to_check_whether_a_number_is_Prime_or_not.ipynb\" target=\"_parent\"><img src=\"https://colab.research.google.com/assets/colab-badge.svg\" alt=\"Open In Colab\"/></a>"
      ]
    },
    {
      "cell_type": "code",
      "metadata": {
        "colab": {
          "base_uri": "https://localhost:8080/"
        },
        "id": "p0qbphttqc21",
        "outputId": "2e68dfd4-8a89-45cf-896c-fdebb7e995ad"
      },
      "source": [
        "# Python program to check if given number is prime or not\n",
        "\n",
        "num = 11\n",
        "\n",
        "# If given number is greater than 1\n",
        "if num > 1:\n",
        "\n",
        "\t# Iterate from 2 to n / 2\n",
        "\tfor i in range(2, int(num/2)+1):\n",
        "\n",
        "\t\t# If num is divisible by any number between 2 and n / 2, it is not prime\n",
        "\t\tif (num % i) == 0:\n",
        "\t\t\tprint(num, \"is not a prime number\")\n",
        "\t\t\tbreak\n",
        "\telse:\n",
        "\t\tprint(num, \"is a prime number\")\n",
        "\n",
        "else:\n",
        "\tprint(num, \"is not a prime number\")\n"
      ],
      "execution_count": 1,
      "outputs": [
        {
          "output_type": "stream",
          "text": [
            "11 is a prime number\n"
          ],
          "name": "stdout"
        }
      ]
    }
  ]
}