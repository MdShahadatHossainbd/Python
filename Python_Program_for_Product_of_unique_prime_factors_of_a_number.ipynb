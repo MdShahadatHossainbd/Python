{
  "nbformat": 4,
  "nbformat_minor": 0,
  "metadata": {
    "colab": {
      "name": "Python Program for Product of unique prime factors of a number.ipynb",
      "provenance": [],
      "authorship_tag": "ABX9TyOP3IV3Wjdhcj1OttBc+Miu",
      "include_colab_link": true
    },
    "kernelspec": {
      "name": "python3",
      "display_name": "Python 3"
    }
  },
  "cells": [
    {
      "cell_type": "markdown",
      "metadata": {
        "id": "view-in-github",
        "colab_type": "text"
      },
      "source": [
        "<a href=\"https://colab.research.google.com/github/MdShahadatHossainbd/Python/blob/main/Python_Program_for_Product_of_unique_prime_factors_of_a_number.ipynb\" target=\"_parent\"><img src=\"https://colab.research.google.com/assets/colab-badge.svg\" alt=\"Open In Colab\"/></a>"
      ]
    },
    {
      "cell_type": "code",
      "metadata": {
        "colab": {
          "base_uri": "https://localhost:8080/"
        },
        "id": "zA_HLJvQG8bF",
        "outputId": "f4400917-b472-4224-c152-ef7d807e9cdd"
      },
      "source": [
        "# Python program to find sum of given \n",
        "# series. \n",
        "\n",
        "def productPrimeFactors(n): \n",
        "\tproduct = 1\n",
        "\t\n",
        "\tfor i in range(2, n+1): \n",
        "\t\tif (n % i == 0): \n",
        "\t\t\tisPrime = 1\n",
        "\t\t\t\n",
        "\t\t\tfor j in range(2, int(i/2 + 1)): \n",
        "\t\t\t\tif (i % j == 0): \n",
        "\t\t\t\t\tisPrime = 0\n",
        "\t\t\t\t\tbreak\n",
        "\t\t\t\t\n",
        "\t\t\t# condition if \\'i\\' is Prime number \n",
        "\t\t\t# as well as factor of num \n",
        "\t\t\tif (isPrime): \n",
        "\t\t\t\tproduct = product * i \n",
        "\t\t\t\t\n",
        "\treturn product \n",
        "\t\n",
        "\t\n",
        "\t\n",
        "# main() \n",
        "n = 44\n",
        "print (productPrimeFactors(n)) "
      ],
      "execution_count": 1,
      "outputs": [
        {
          "output_type": "stream",
          "text": [
            "22\n"
          ],
          "name": "stdout"
        }
      ]
    },
    {
      "cell_type": "code",
      "metadata": {
        "colab": {
          "base_uri": "https://localhost:8080/"
        },
        "id": "wASO7bccHFkG",
        "outputId": "89d6eecb-86f2-487c-a085-f3f6353bbd64"
      },
      "source": [
        "# Python program to find product of \n",
        "# unique prime factors of a number \n",
        "\n",
        "import math \n",
        "\n",
        "def productPrimeFactors(n): \n",
        "\tproduct = 1\n",
        "\t\n",
        "\t# Handle prime factor 2 explicitly so that \n",
        "\t# can optimally handle other prime factors. \n",
        "\tif (n % 2 == 0): \n",
        "\t\tproduct *= 2\n",
        "\t\twhile (n%2 == 0): \n",
        "\t\t\tn = n/2\n",
        "\t\t\t\n",
        "\t# n must be odd at this point. So we can \n",
        "\t# skip one element (Note i = i +2) \n",
        "\tfor i in range (3, int(math.sqrt(n)), 2): \n",
        "\t\t# While i divides n, print i and \n",
        "\t\t# divide n \n",
        "\t\tif (n % i == 0): \n",
        "\t\t\tproduct = product * i \n",
        "\t\t\twhile (n%i == 0): \n",
        "\t\t\t\tn = n/i \n",
        "\t\t\t\t\n",
        "\t# This condition is to handle the case when n \n",
        "\t# is a prime number greater than 2 \n",
        "\tif (n > 2): \n",
        "\t\tproduct = product * n \n",
        "\t\t\n",
        "\treturn product\t \n",
        "\t\n",
        "# main() \n",
        "n = 44\n",
        "print (int(productPrimeFactors(n))) "
      ],
      "execution_count": 2,
      "outputs": [
        {
          "output_type": "stream",
          "text": [
            "22\n"
          ],
          "name": "stdout"
        }
      ]
    }
  ]
}