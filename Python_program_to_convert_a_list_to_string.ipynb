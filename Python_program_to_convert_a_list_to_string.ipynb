{
  "nbformat": 4,
  "nbformat_minor": 0,
  "metadata": {
    "colab": {
      "name": "Python program to convert a list to string.ipynb",
      "provenance": [],
      "authorship_tag": "ABX9TyNmC8wg8k4lSG7FSxy76q4w",
      "include_colab_link": true
    },
    "kernelspec": {
      "name": "python3",
      "display_name": "Python 3"
    }
  },
  "cells": [
    {
      "cell_type": "markdown",
      "metadata": {
        "id": "view-in-github",
        "colab_type": "text"
      },
      "source": [
        "<a href=\"https://colab.research.google.com/github/MdShahadatHossainbd/Python/blob/main/Python_program_to_convert_a_list_to_string.ipynb\" target=\"_parent\"><img src=\"https://colab.research.google.com/assets/colab-badge.svg\" alt=\"Open In Colab\"/></a>"
      ]
    },
    {
      "cell_type": "code",
      "metadata": {
        "colab": {
          "base_uri": "https://localhost:8080/"
        },
        "id": "-epIS1e8c4WP",
        "outputId": "13d0aed0-a908-4205-d145-1fc19b1a0858"
      },
      "source": [
        "# Python program to convert a list to string \r\n",
        "\t\r\n",
        "# Function to convert \r\n",
        "def listToString(s): \r\n",
        "\t\r\n",
        "\t# initialize an empty string \r\n",
        "\tstr1 = \"\" \r\n",
        "\t\r\n",
        "\t# traverse in the string \r\n",
        "\tfor ele in s: \r\n",
        "\t\tstr1 += ele \r\n",
        "\t\r\n",
        "\t# return string \r\n",
        "\treturn str1 \r\n",
        "\t\t\r\n",
        "\t\t\r\n",
        "# Driver code\t \r\n",
        "s = ['Geeks', 'for', 'Geeks'] \r\n",
        "print(listToString(s)) \r\n"
      ],
      "execution_count": 1,
      "outputs": [
        {
          "output_type": "stream",
          "text": [
            "GeeksforGeeks\n"
          ],
          "name": "stdout"
        }
      ]
    },
    {
      "cell_type": "code",
      "metadata": {
        "colab": {
          "base_uri": "https://localhost:8080/"
        },
        "id": "MFnOEIpUehXN",
        "outputId": "830f3e41-169f-444c-d59b-36bcb7604430"
      },
      "source": [
        "# Python program to convert a list \r\n",
        "# to string using join() function \r\n",
        "\t\r\n",
        "# Function to convert \r\n",
        "def listToString(s): \r\n",
        "\t\r\n",
        "\t# initialize an empty string \r\n",
        "\tstr1 = \" \"\r\n",
        "\t\r\n",
        "\t# return string \r\n",
        "\treturn (str1.join(s)) \r\n",
        "\t\t\r\n",
        "\t\t\r\n",
        "# Driver code\t \r\n",
        "s = ['Geeks', 'for', 'Geeks'] \r\n",
        "print(listToString(s)) \r\n"
      ],
      "execution_count": 2,
      "outputs": [
        {
          "output_type": "stream",
          "text": [
            "Geeks for Geeks\n"
          ],
          "name": "stdout"
        }
      ]
    },
    {
      "cell_type": "code",
      "metadata": {
        "colab": {
          "base_uri": "https://localhost:8080/"
        },
        "id": "hFbQXEhceoPp",
        "outputId": "52da9978-24bf-4e33-9227-1b27a9ba15ac"
      },
      "source": [
        "# Python program to convert a list \r\n",
        "# to string using list comprehension \r\n",
        "\r\n",
        "s = ['I', 'want', 4, 'apples', 'and', 18, 'bananas'] \r\n",
        "\r\n",
        "# using list comprehension \r\n",
        "listToStr = ' '.join([str(elem) for elem in s]) \r\n",
        "\r\n",
        "print(listToStr) \r\n"
      ],
      "execution_count": 3,
      "outputs": [
        {
          "output_type": "stream",
          "text": [
            "I want 4 apples and 18 bananas\n"
          ],
          "name": "stdout"
        }
      ]
    },
    {
      "cell_type": "code",
      "metadata": {
        "colab": {
          "base_uri": "https://localhost:8080/"
        },
        "id": "8eEt4raXfAR_",
        "outputId": "c82ed3a1-f4af-4228-a804-bacaacc14f47"
      },
      "source": [
        "# Python program to convert a list \r\n",
        "# to string using list comprehension \r\n",
        "\r\n",
        "s = ['I', 'want', 4, 'apples', 'and', 18, 'bananas'] \r\n",
        "\r\n",
        "# using list comprehension \r\n",
        "listToStr = ' '.join(map(str, s)) \r\n",
        "\r\n",
        "print(listToStr) \r\n"
      ],
      "execution_count": 4,
      "outputs": [
        {
          "output_type": "stream",
          "text": [
            "I want 4 apples and 18 bananas\n"
          ],
          "name": "stdout"
        }
      ]
    }
  ]
}